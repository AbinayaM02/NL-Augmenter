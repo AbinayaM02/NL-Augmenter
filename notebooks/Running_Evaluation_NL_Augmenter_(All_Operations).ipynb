{
  "nbformat": 4,
  "nbformat_minor": 0,
  "metadata": {
    "accelerator": "GPU",
    "colab": {
      "name": "Copy of Running Evaluation - NL-Augmenter (All Operations)",
      "provenance": [],
      "collapsed_sections": [],
      "toc_visible": true
    },
    "kernelspec": {
      "display_name": "Python 3",
      "name": "python3"
    },
    "language_info": {
      "name": "python"
    }
  },
  "cells": [
    {
      "cell_type": "markdown",
      "metadata": {
        "id": "oLKCY5U981Y_"
      },
      "source": [
        "# Introduction\n",
        "\n",
        "This notebook can be used to evaluate the different transformations and filters present in the NL-Augmenter."
      ]
    },
    {
      "cell_type": "markdown",
      "metadata": {
        "id": "bs7AFy_7ABgb"
      },
      "source": [
        "# Setting up the repository"
      ]
    },
    {
      "cell_type": "markdown",
      "metadata": {
        "id": "H1_mQyFIjP2E"
      },
      "source": [
        "**Clone the repository!**"
      ]
    },
    {
      "cell_type": "code",
      "metadata": {
        "id": "oiSoM2Zpf9OC"
      },
      "source": [
        "!git clone https://github.com/GEM-benchmark/NL-Augmenter.git"
      ],
      "execution_count": null,
      "outputs": []
    },
    {
      "cell_type": "code",
      "metadata": {
        "id": "jpGIM8_YRjRn"
      },
      "source": [
        "%cd NL-Augmenter"
      ],
      "execution_count": null,
      "outputs": []
    },
    {
      "cell_type": "markdown",
      "metadata": {
        "id": "sfPYdyMDAQYm"
      },
      "source": [
        "## Installation of requirements\n",
        "\n",
        "By default, all the filters (both light and heavy) and the light transformations will be installed (through base requirements). To make sure all the heavy transformations are also installed, run the following commands."
      ]
    },
    {
      "cell_type": "code",
      "metadata": {
        "colab": {
          "base_uri": "https://localhost:8080/"
        },
        "id": "5V6arD-ojUy5",
        "outputId": "d8fbbd51-9c90-4c9e-e565-3c0e608503a2"
      },
      "source": [
        "TRANSFORMATIONS_DIR = 'transformations'\n",
        "\n",
        "import os\n",
        "\n",
        "# Install tesseract for OCR transformation\n",
        "!sudo apt install -y libleptonica-dev libtesseract-dev tesseract-ocr{,-eng,-osd}\n",
        "\n",
        "# Install base project requirements\n",
        "!pip install -r requirements.txt\n",
        "\n",
        "# English Spacy model\n",
        "!python -m spacy download en_core_web_sm\n",
        "\n",
        "# Install requirements for every transformation (this is necessary to run the evaluation script)\n",
        "for transformation_dir in os.listdir(TRANSFORMATIONS_DIR):\n",
        "  transformation_path = os.path.join(TRANSFORMATIONS_DIR, transformation_dir)\n",
        "  if os.path.isdir(transformation_path) and 'requirements.txt' in os.listdir(transformation_path):\n",
        "    transformation_reqs = os.path.join(transformation_path, 'requirements.txt')\n",
        "    !pip install -r \"$transformation_reqs\"\n"
      ],
      "execution_count": null,
      "outputs": [
        {
          "output_type": "stream",
          "name": "stdout",
          "text": [
            "Reading package lists... Done\n",
            "Building dependency tree       \n",
            "Reading state information... Done\n",
            "libleptonica-dev is already the newest version (1.75.3-3).\n",
            "libtesseract-dev is already the newest version (4.00~git2288-10f4998a-2).\n",
            "tesseract-ocr is already the newest version (4.00~git2288-10f4998a-2).\n",
            "tesseract-ocr-eng is already the newest version (4.00~git24-0e00fe6-1.2).\n",
            "tesseract-ocr-osd is already the newest version (4.00~git24-0e00fe6-1.2).\n",
            "0 upgraded, 0 newly installed, 0 to remove and 37 not upgraded.\n",
            "Requirement already satisfied: checklist==0.0.11 in /usr/local/lib/python3.7/dist-packages (from -r requirements.txt (line 1)) (0.0.11)\n",
            "Requirement already satisfied: spacy==3.0.0 in /usr/local/lib/python3.7/dist-packages (from -r requirements.txt (line 2)) (3.0.0)\n",
            "Requirement already satisfied: numpy in /usr/local/lib/python3.7/dist-packages (from -r requirements.txt (line 3)) (1.19.5)\n",
            "Requirement already satisfied: torch in /usr/local/lib/python3.7/dist-packages (from -r requirements.txt (line 6)) (1.8.1)\n",
            "Requirement already satisfied: num2words==0.5.10 in /usr/local/lib/python3.7/dist-packages (from -r requirements.txt (line 9)) (0.5.10)\n",
            "Requirement already satisfied: word2number==1.1 in /usr/local/lib/python3.7/dist-packages (from -r requirements.txt (line 10)) (1.1)\n",
            "Requirement already satisfied: pytest==6.2.4 in /usr/local/lib/python3.7/dist-packages (from -r requirements.txt (line 13)) (6.2.4)\n",
            "Requirement already satisfied: pytest-cov==2.12.1 in /usr/local/lib/python3.7/dist-packages (from -r requirements.txt (line 14)) (2.12.1)\n",
            "Requirement already satisfied: datasets==1.7.0 in /usr/local/lib/python3.7/dist-packages (from -r requirements.txt (line 17)) (1.7.0)\n",
            "Requirement already satisfied: transformers==4.6.1 in /usr/local/lib/python3.7/dist-packages (from -r requirements.txt (line 18)) (4.6.1)\n",
            "Requirement already satisfied: sacrebleu==1.5.1 in /usr/local/lib/python3.7/dist-packages (from -r requirements.txt (line 19)) (1.5.1)\n",
            "Requirement already satisfied: seqeval==1.2.2 in /usr/local/lib/python3.7/dist-packages (from -r requirements.txt (line 20)) (1.2.2)\n",
            "Requirement already satisfied: tqdm in /usr/local/lib/python3.7/dist-packages (from -r requirements.txt (line 23)) (4.49.0)\n",
            "Requirement already satisfied: sentencepiece==0.1.95 in /usr/local/lib/python3.7/dist-packages (from -r requirements.txt (line 26)) (0.1.95)\n",
            "Requirement already satisfied: black==21.5b2 in /usr/local/lib/python3.7/dist-packages (from -r requirements.txt (line 29)) (21.5b2)\n",
            "Requirement already satisfied: pre-commit==2.13.0 in /usr/local/lib/python3.7/dist-packages (from -r requirements.txt (line 30)) (2.13.0)\n",
            "Requirement already satisfied: flake8==3.9.2 in /usr/local/lib/python3.7/dist-packages (from -r requirements.txt (line 33)) (3.9.2)\n",
            "Requirement already satisfied: isort==5.9.1 in /usr/local/lib/python3.7/dist-packages (from -r requirements.txt (line 34)) (5.9.1)\n",
            "Requirement already satisfied: jupyter>=1.0 in /usr/local/lib/python3.7/dist-packages (from checklist==0.0.11->-r requirements.txt (line 1)) (1.0.0)\n",
            "Requirement already satisfied: ipywidgets>=7.5 in /usr/local/lib/python3.7/dist-packages (from checklist==0.0.11->-r requirements.txt (line 1)) (7.6.5)\n",
            "Requirement already satisfied: munch>=2.5 in /usr/local/lib/python3.7/dist-packages (from checklist==0.0.11->-r requirements.txt (line 1)) (2.5.0)\n",
            "Requirement already satisfied: iso-639 in /usr/local/lib/python3.7/dist-packages (from checklist==0.0.11->-r requirements.txt (line 1)) (0.4.5)\n",
            "Requirement already satisfied: dill>=0.3.1 in /usr/local/lib/python3.7/dist-packages (from checklist==0.0.11->-r requirements.txt (line 1)) (0.3.4)\n",
            "Requirement already satisfied: patternfork-nosql in /usr/local/lib/python3.7/dist-packages (from checklist==0.0.11->-r requirements.txt (line 1)) (3.6)\n",
            "Requirement already satisfied: cymem<2.1.0,>=2.0.2 in /usr/local/lib/python3.7/dist-packages (from spacy==3.0.0->-r requirements.txt (line 2)) (2.0.5)\n",
            "Requirement already satisfied: setuptools in /usr/local/lib/python3.7/dist-packages (from spacy==3.0.0->-r requirements.txt (line 2)) (57.4.0)\n",
            "Requirement already satisfied: thinc<8.1.0,>=8.0.0 in /usr/local/lib/python3.7/dist-packages (from spacy==3.0.0->-r requirements.txt (line 2)) (8.0.11)\n",
            "Requirement already satisfied: spacy-legacy<3.1.0,>=3.0.0 in /usr/local/lib/python3.7/dist-packages (from spacy==3.0.0->-r requirements.txt (line 2)) (3.0.8)\n",
            "Requirement already satisfied: packaging>=20.0 in /usr/local/lib/python3.7/dist-packages (from spacy==3.0.0->-r requirements.txt (line 2)) (21.0)\n",
            "Requirement already satisfied: blis<0.8.0,>=0.4.0 in /usr/local/lib/python3.7/dist-packages (from spacy==3.0.0->-r requirements.txt (line 2)) (0.4.1)\n",
            "Requirement already satisfied: pydantic<1.8.0,>=1.7.1 in /usr/local/lib/python3.7/dist-packages (from spacy==3.0.0->-r requirements.txt (line 2)) (1.7.4)\n",
            "Requirement already satisfied: importlib-metadata>=0.20 in /usr/local/lib/python3.7/dist-packages (from spacy==3.0.0->-r requirements.txt (line 2)) (4.8.1)\n",
            "Requirement already satisfied: wasabi<1.1.0,>=0.8.1 in /usr/local/lib/python3.7/dist-packages (from spacy==3.0.0->-r requirements.txt (line 2)) (0.8.2)\n",
            "Requirement already satisfied: typer<0.4.0,>=0.3.0 in /usr/local/lib/python3.7/dist-packages (from spacy==3.0.0->-r requirements.txt (line 2)) (0.3.2)\n",
            "Requirement already satisfied: pathy in /usr/local/lib/python3.7/dist-packages (from spacy==3.0.0->-r requirements.txt (line 2)) (0.6.0)\n",
            "Requirement already satisfied: jinja2 in /usr/local/lib/python3.7/dist-packages (from spacy==3.0.0->-r requirements.txt (line 2)) (2.11.3)\n",
            "Requirement already satisfied: srsly<3.0.0,>=2.4.0 in /usr/local/lib/python3.7/dist-packages (from spacy==3.0.0->-r requirements.txt (line 2)) (2.4.1)\n",
            "Requirement already satisfied: murmurhash<1.1.0,>=0.28.0 in /usr/local/lib/python3.7/dist-packages (from spacy==3.0.0->-r requirements.txt (line 2)) (1.0.5)\n",
            "Requirement already satisfied: preshed<3.1.0,>=3.0.2 in /usr/local/lib/python3.7/dist-packages (from spacy==3.0.0->-r requirements.txt (line 2)) (3.0.5)\n",
            "Requirement already satisfied: requests<3.0.0,>=2.13.0 in /usr/local/lib/python3.7/dist-packages (from spacy==3.0.0->-r requirements.txt (line 2)) (2.25.1)\n",
            "Requirement already satisfied: catalogue<2.1.0,>=2.0.1 in /usr/local/lib/python3.7/dist-packages (from spacy==3.0.0->-r requirements.txt (line 2)) (2.0.6)\n",
            "Requirement already satisfied: typing-extensions>=3.7.4 in /usr/local/lib/python3.7/dist-packages (from spacy==3.0.0->-r requirements.txt (line 2)) (3.7.4.3)\n",
            "Requirement already satisfied: docopt>=0.6.2 in /usr/local/lib/python3.7/dist-packages (from num2words==0.5.10->-r requirements.txt (line 9)) (0.6.2)\n",
            "Requirement already satisfied: pluggy<1.0.0a1,>=0.12 in /usr/local/lib/python3.7/dist-packages (from pytest==6.2.4->-r requirements.txt (line 13)) (0.13.1)\n",
            "Requirement already satisfied: py>=1.8.2 in /usr/local/lib/python3.7/dist-packages (from pytest==6.2.4->-r requirements.txt (line 13)) (1.10.0)\n",
            "Requirement already satisfied: toml in /usr/local/lib/python3.7/dist-packages (from pytest==6.2.4->-r requirements.txt (line 13)) (0.10.2)\n",
            "Requirement already satisfied: iniconfig in /usr/local/lib/python3.7/dist-packages (from pytest==6.2.4->-r requirements.txt (line 13)) (1.1.1)\n",
            "Requirement already satisfied: attrs>=19.2.0 in /usr/local/lib/python3.7/dist-packages (from pytest==6.2.4->-r requirements.txt (line 13)) (21.2.0)\n",
            "Requirement already satisfied: coverage>=5.2.1 in /usr/local/lib/python3.7/dist-packages (from pytest-cov==2.12.1->-r requirements.txt (line 14)) (6.0.2)\n",
            "Requirement already satisfied: huggingface-hub<0.1.0 in /usr/local/lib/python3.7/dist-packages (from datasets==1.7.0->-r requirements.txt (line 17)) (0.0.8)\n",
            "Requirement already satisfied: fsspec in /usr/local/lib/python3.7/dist-packages (from datasets==1.7.0->-r requirements.txt (line 17)) (2021.10.1)\n",
            "Requirement already satisfied: xxhash in /usr/local/lib/python3.7/dist-packages (from datasets==1.7.0->-r requirements.txt (line 17)) (2.0.2)\n",
            "Requirement already satisfied: pyarrow<4.0.0,>=1.0.0 in /usr/local/lib/python3.7/dist-packages (from datasets==1.7.0->-r requirements.txt (line 17)) (3.0.0)\n",
            "Requirement already satisfied: pandas in /usr/local/lib/python3.7/dist-packages (from datasets==1.7.0->-r requirements.txt (line 17)) (1.3.4)\n",
            "Requirement already satisfied: multiprocess in /usr/local/lib/python3.7/dist-packages (from datasets==1.7.0->-r requirements.txt (line 17)) (0.70.12.2)\n",
            "Requirement already satisfied: filelock in /usr/local/lib/python3.7/dist-packages (from transformers==4.6.1->-r requirements.txt (line 18)) (3.0.12)\n",
            "Requirement already satisfied: tokenizers<0.11,>=0.10.1 in /usr/local/lib/python3.7/dist-packages (from transformers==4.6.1->-r requirements.txt (line 18)) (0.10.3)\n",
            "Requirement already satisfied: regex!=2019.12.17 in /usr/local/lib/python3.7/dist-packages (from transformers==4.6.1->-r requirements.txt (line 18)) (2021.10.21)\n",
            "Requirement already satisfied: sacremoses in /usr/local/lib/python3.7/dist-packages (from transformers==4.6.1->-r requirements.txt (line 18)) (0.0.46)\n",
            "Requirement already satisfied: portalocker==2.0.0 in /usr/local/lib/python3.7/dist-packages (from sacrebleu==1.5.1->-r requirements.txt (line 19)) (2.0.0)\n",
            "Requirement already satisfied: scikit-learn>=0.21.3 in /usr/local/lib/python3.7/dist-packages (from seqeval==1.2.2->-r requirements.txt (line 20)) (0.22.2.post1)\n",
            "Requirement already satisfied: mypy-extensions>=0.4.3 in /usr/local/lib/python3.7/dist-packages (from black==21.5b2->-r requirements.txt (line 29)) (0.4.3)\n",
            "Requirement already satisfied: appdirs in /usr/local/lib/python3.7/dist-packages (from black==21.5b2->-r requirements.txt (line 29)) (1.4.4)\n",
            "Requirement already satisfied: typed-ast>=1.4.2 in /usr/local/lib/python3.7/dist-packages (from black==21.5b2->-r requirements.txt (line 29)) (1.4.3)\n",
            "Requirement already satisfied: pathspec<1,>=0.8.1 in /usr/local/lib/python3.7/dist-packages (from black==21.5b2->-r requirements.txt (line 29)) (0.9.0)\n",
            "Requirement already satisfied: click>=7.1.2 in /usr/local/lib/python3.7/dist-packages (from black==21.5b2->-r requirements.txt (line 29)) (7.1.2)\n",
            "Requirement already satisfied: identify>=1.0.0 in /usr/local/lib/python3.7/dist-packages (from pre-commit==2.13.0->-r requirements.txt (line 30)) (2.3.0)\n",
            "Requirement already satisfied: pyyaml>=5.1 in /usr/local/lib/python3.7/dist-packages (from pre-commit==2.13.0->-r requirements.txt (line 30)) (6.0)\n",
            "Requirement already satisfied: virtualenv>=20.0.8 in /usr/local/lib/python3.7/dist-packages (from pre-commit==2.13.0->-r requirements.txt (line 30)) (20.8.1)\n",
            "Requirement already satisfied: nodeenv>=0.11.1 in /usr/local/lib/python3.7/dist-packages (from pre-commit==2.13.0->-r requirements.txt (line 30)) (1.6.0)\n",
            "Requirement already satisfied: cfgv>=2.0.0 in /usr/local/lib/python3.7/dist-packages (from pre-commit==2.13.0->-r requirements.txt (line 30)) (3.3.1)\n",
            "Requirement already satisfied: pyflakes<2.4.0,>=2.3.0 in /usr/local/lib/python3.7/dist-packages (from flake8==3.9.2->-r requirements.txt (line 33)) (2.3.1)\n",
            "Requirement already satisfied: pycodestyle<2.8.0,>=2.7.0 in /usr/local/lib/python3.7/dist-packages (from flake8==3.9.2->-r requirements.txt (line 33)) (2.7.0)\n",
            "Requirement already satisfied: mccabe<0.7.0,>=0.6.0 in /usr/local/lib/python3.7/dist-packages (from flake8==3.9.2->-r requirements.txt (line 33)) (0.6.1)\n",
            "Requirement already satisfied: zipp>=0.5 in /usr/local/lib/python3.7/dist-packages (from catalogue<2.1.0,>=2.0.1->spacy==3.0.0->-r requirements.txt (line 2)) (3.6.0)\n",
            "Requirement already satisfied: widgetsnbextension~=3.5.0 in /usr/local/lib/python3.7/dist-packages (from ipywidgets>=7.5->checklist==0.0.11->-r requirements.txt (line 1)) (3.5.1)\n",
            "Requirement already satisfied: jupyterlab-widgets>=1.0.0 in /usr/local/lib/python3.7/dist-packages (from ipywidgets>=7.5->checklist==0.0.11->-r requirements.txt (line 1)) (1.0.2)\n",
            "Requirement already satisfied: traitlets>=4.3.1 in /usr/local/lib/python3.7/dist-packages (from ipywidgets>=7.5->checklist==0.0.11->-r requirements.txt (line 1)) (5.1.0)\n",
            "Requirement already satisfied: ipykernel>=4.5.1 in /usr/local/lib/python3.7/dist-packages (from ipywidgets>=7.5->checklist==0.0.11->-r requirements.txt (line 1)) (4.10.1)\n",
            "Requirement already satisfied: ipython-genutils~=0.2.0 in /usr/local/lib/python3.7/dist-packages (from ipywidgets>=7.5->checklist==0.0.11->-r requirements.txt (line 1)) (0.2.0)\n",
            "Requirement already satisfied: ipython>=4.0.0 in /usr/local/lib/python3.7/dist-packages (from ipywidgets>=7.5->checklist==0.0.11->-r requirements.txt (line 1)) (5.5.0)\n",
            "Requirement already satisfied: nbformat>=4.2.0 in /usr/local/lib/python3.7/dist-packages (from ipywidgets>=7.5->checklist==0.0.11->-r requirements.txt (line 1)) (5.1.3)\n",
            "Requirement already satisfied: jupyter-client in /usr/local/lib/python3.7/dist-packages (from ipykernel>=4.5.1->ipywidgets>=7.5->checklist==0.0.11->-r requirements.txt (line 1)) (5.3.5)\n",
            "Requirement already satisfied: tornado>=4.0 in /usr/local/lib/python3.7/dist-packages (from ipykernel>=4.5.1->ipywidgets>=7.5->checklist==0.0.11->-r requirements.txt (line 1)) (5.1.1)\n",
            "Requirement already satisfied: simplegeneric>0.8 in /usr/local/lib/python3.7/dist-packages (from ipython>=4.0.0->ipywidgets>=7.5->checklist==0.0.11->-r requirements.txt (line 1)) (0.8.1)\n",
            "Requirement already satisfied: prompt-toolkit<2.0.0,>=1.0.4 in /usr/local/lib/python3.7/dist-packages (from ipython>=4.0.0->ipywidgets>=7.5->checklist==0.0.11->-r requirements.txt (line 1)) (1.0.18)\n",
            "Requirement already satisfied: pexpect in /usr/local/lib/python3.7/dist-packages (from ipython>=4.0.0->ipywidgets>=7.5->checklist==0.0.11->-r requirements.txt (line 1)) (4.8.0)\n",
            "Requirement already satisfied: pygments in /usr/local/lib/python3.7/dist-packages (from ipython>=4.0.0->ipywidgets>=7.5->checklist==0.0.11->-r requirements.txt (line 1)) (2.6.1)\n",
            "Requirement already satisfied: pickleshare in /usr/local/lib/python3.7/dist-packages (from ipython>=4.0.0->ipywidgets>=7.5->checklist==0.0.11->-r requirements.txt (line 1)) (0.7.5)\n",
            "Requirement already satisfied: decorator in /usr/local/lib/python3.7/dist-packages (from ipython>=4.0.0->ipywidgets>=7.5->checklist==0.0.11->-r requirements.txt (line 1)) (4.4.2)\n",
            "Requirement already satisfied: qtconsole in /usr/local/lib/python3.7/dist-packages (from jupyter>=1.0->checklist==0.0.11->-r requirements.txt (line 1)) (5.1.1)\n",
            "Requirement already satisfied: notebook in /usr/local/lib/python3.7/dist-packages (from jupyter>=1.0->checklist==0.0.11->-r requirements.txt (line 1)) (5.3.1)\n",
            "Requirement already satisfied: jupyter-console in /usr/local/lib/python3.7/dist-packages (from jupyter>=1.0->checklist==0.0.11->-r requirements.txt (line 1)) (5.2.0)\n",
            "Requirement already satisfied: nbconvert in /usr/local/lib/python3.7/dist-packages (from jupyter>=1.0->checklist==0.0.11->-r requirements.txt (line 1)) (5.6.1)\n",
            "Requirement already satisfied: six in /usr/local/lib/python3.7/dist-packages (from munch>=2.5->checklist==0.0.11->-r requirements.txt (line 1)) (1.15.0)\n",
            "Requirement already satisfied: jupyter-core in /usr/local/lib/python3.7/dist-packages (from nbformat>=4.2.0->ipywidgets>=7.5->checklist==0.0.11->-r requirements.txt (line 1)) (4.8.1)\n",
            "Requirement already satisfied: jsonschema!=2.5.0,>=2.4 in /usr/local/lib/python3.7/dist-packages (from nbformat>=4.2.0->ipywidgets>=7.5->checklist==0.0.11->-r requirements.txt (line 1)) (2.6.0)\n",
            "Requirement already satisfied: pyparsing>=2.0.2 in /usr/local/lib/python3.7/dist-packages (from packaging>=20.0->spacy==3.0.0->-r requirements.txt (line 2)) (2.4.7)\n",
            "Requirement already satisfied: wcwidth in /usr/local/lib/python3.7/dist-packages (from prompt-toolkit<2.0.0,>=1.0.4->ipython>=4.0.0->ipywidgets>=7.5->checklist==0.0.11->-r requirements.txt (line 1)) (0.2.5)\n",
            "Requirement already satisfied: urllib3<1.27,>=1.21.1 in /usr/local/lib/python3.7/dist-packages (from requests<3.0.0,>=2.13.0->spacy==3.0.0->-r requirements.txt (line 2)) (1.25.11)\n",
            "Requirement already satisfied: idna<3,>=2.5 in /usr/local/lib/python3.7/dist-packages (from requests<3.0.0,>=2.13.0->spacy==3.0.0->-r requirements.txt (line 2)) (2.10)\n",
            "Requirement already satisfied: certifi>=2017.4.17 in /usr/local/lib/python3.7/dist-packages (from requests<3.0.0,>=2.13.0->spacy==3.0.0->-r requirements.txt (line 2)) (2021.5.30)\n",
            "Requirement already satisfied: chardet<5,>=3.0.2 in /usr/local/lib/python3.7/dist-packages (from requests<3.0.0,>=2.13.0->spacy==3.0.0->-r requirements.txt (line 2)) (3.0.4)\n",
            "Requirement already satisfied: joblib>=0.11 in /usr/local/lib/python3.7/dist-packages (from scikit-learn>=0.21.3->seqeval==1.2.2->-r requirements.txt (line 20)) (1.0.1)\n",
            "Requirement already satisfied: scipy>=0.17.0 in /usr/local/lib/python3.7/dist-packages (from scikit-learn>=0.21.3->seqeval==1.2.2->-r requirements.txt (line 20)) (1.4.1)\n",
            "Requirement already satisfied: platformdirs<3,>=2 in /usr/local/lib/python3.7/dist-packages (from virtualenv>=20.0.8->pre-commit==2.13.0->-r requirements.txt (line 30)) (2.4.0)\n",
            "Requirement already satisfied: distlib<1,>=0.3.1 in /usr/local/lib/python3.7/dist-packages (from virtualenv>=20.0.8->pre-commit==2.13.0->-r requirements.txt (line 30)) (0.3.3)\n",
            "Requirement already satisfied: backports.entry-points-selectable>=1.0.4 in /usr/local/lib/python3.7/dist-packages (from virtualenv>=20.0.8->pre-commit==2.13.0->-r requirements.txt (line 30)) (1.1.0)\n",
            "Requirement already satisfied: terminado>=0.8.1 in /usr/local/lib/python3.7/dist-packages (from notebook->jupyter>=1.0->checklist==0.0.11->-r requirements.txt (line 1)) (0.12.1)\n",
            "Requirement already satisfied: Send2Trash in /usr/local/lib/python3.7/dist-packages (from notebook->jupyter>=1.0->checklist==0.0.11->-r requirements.txt (line 1)) (1.8.0)\n",
            "Requirement already satisfied: python-dateutil>=2.1 in /usr/local/lib/python3.7/dist-packages (from jupyter-client->ipykernel>=4.5.1->ipywidgets>=7.5->checklist==0.0.11->-r requirements.txt (line 1)) (2.8.2)\n",
            "Requirement already satisfied: pyzmq>=13 in /usr/local/lib/python3.7/dist-packages (from jupyter-client->ipykernel>=4.5.1->ipywidgets>=7.5->checklist==0.0.11->-r requirements.txt (line 1)) (22.3.0)\n",
            "Requirement already satisfied: ptyprocess in /usr/local/lib/python3.7/dist-packages (from terminado>=0.8.1->notebook->jupyter>=1.0->checklist==0.0.11->-r requirements.txt (line 1)) (0.7.0)\n",
            "Requirement already satisfied: MarkupSafe>=0.23 in /usr/local/lib/python3.7/dist-packages (from jinja2->spacy==3.0.0->-r requirements.txt (line 2)) (2.0.1)\n",
            "Requirement already satisfied: bleach in /usr/local/lib/python3.7/dist-packages (from nbconvert->jupyter>=1.0->checklist==0.0.11->-r requirements.txt (line 1)) (4.1.0)\n",
            "Requirement already satisfied: pandocfilters>=1.4.1 in /usr/local/lib/python3.7/dist-packages (from nbconvert->jupyter>=1.0->checklist==0.0.11->-r requirements.txt (line 1)) (1.5.0)\n",
            "Requirement already satisfied: testpath in /usr/local/lib/python3.7/dist-packages (from nbconvert->jupyter>=1.0->checklist==0.0.11->-r requirements.txt (line 1)) (0.5.0)\n",
            "Requirement already satisfied: defusedxml in /usr/local/lib/python3.7/dist-packages (from nbconvert->jupyter>=1.0->checklist==0.0.11->-r requirements.txt (line 1)) (0.7.1)\n",
            "Requirement already satisfied: entrypoints>=0.2.2 in /usr/local/lib/python3.7/dist-packages (from nbconvert->jupyter>=1.0->checklist==0.0.11->-r requirements.txt (line 1)) (0.3)\n",
            "Requirement already satisfied: mistune<2,>=0.8.1 in /usr/local/lib/python3.7/dist-packages (from nbconvert->jupyter>=1.0->checklist==0.0.11->-r requirements.txt (line 1)) (0.8.4)\n",
            "Requirement already satisfied: webencodings in /usr/local/lib/python3.7/dist-packages (from bleach->nbconvert->jupyter>=1.0->checklist==0.0.11->-r requirements.txt (line 1)) (0.5.1)\n",
            "Requirement already satisfied: pytz>=2017.3 in /usr/local/lib/python3.7/dist-packages (from pandas->datasets==1.7.0->-r requirements.txt (line 17)) (2018.9)\n",
            "Requirement already satisfied: smart-open<6.0.0,>=5.0.0 in /usr/local/lib/python3.7/dist-packages (from pathy->spacy==3.0.0->-r requirements.txt (line 2)) (5.2.1)\n",
            "Requirement already satisfied: cherrypy in /usr/local/lib/python3.7/dist-packages (from patternfork-nosql->checklist==0.0.11->-r requirements.txt (line 1)) (18.6.1)\n",
            "Requirement already satisfied: backports.csv in /usr/local/lib/python3.7/dist-packages (from patternfork-nosql->checklist==0.0.11->-r requirements.txt (line 1)) (1.0.7)\n",
            "Requirement already satisfied: beautifulsoup4 in /usr/local/lib/python3.7/dist-packages (from patternfork-nosql->checklist==0.0.11->-r requirements.txt (line 1)) (4.9.3)\n",
            "Requirement already satisfied: lxml in /usr/local/lib/python3.7/dist-packages (from patternfork-nosql->checklist==0.0.11->-r requirements.txt (line 1)) (4.2.6)\n",
            "Requirement already satisfied: nltk in /usr/local/lib/python3.7/dist-packages (from patternfork-nosql->checklist==0.0.11->-r requirements.txt (line 1)) (3.6.2)\n",
            "Requirement already satisfied: feedparser in /usr/local/lib/python3.7/dist-packages (from patternfork-nosql->checklist==0.0.11->-r requirements.txt (line 1)) (6.0.8)\n",
            "Requirement already satisfied: future in /usr/local/lib/python3.7/dist-packages (from patternfork-nosql->checklist==0.0.11->-r requirements.txt (line 1)) (0.16.0)\n",
            "Requirement already satisfied: pdfminer.six in /usr/local/lib/python3.7/dist-packages (from patternfork-nosql->checklist==0.0.11->-r requirements.txt (line 1)) (20211012)\n",
            "Requirement already satisfied: python-docx in /usr/local/lib/python3.7/dist-packages (from patternfork-nosql->checklist==0.0.11->-r requirements.txt (line 1)) (0.8.11)\n",
            "Requirement already satisfied: soupsieve>1.2 in /usr/local/lib/python3.7/dist-packages (from beautifulsoup4->patternfork-nosql->checklist==0.0.11->-r requirements.txt (line 1)) (2.2.1)\n",
            "Requirement already satisfied: more-itertools in /usr/local/lib/python3.7/dist-packages (from cherrypy->patternfork-nosql->checklist==0.0.11->-r requirements.txt (line 1)) (8.10.0)\n",
            "Requirement already satisfied: portend>=2.1.1 in /usr/local/lib/python3.7/dist-packages (from cherrypy->patternfork-nosql->checklist==0.0.11->-r requirements.txt (line 1)) (3.0.0)\n",
            "Requirement already satisfied: jaraco.collections in /usr/local/lib/python3.7/dist-packages (from cherrypy->patternfork-nosql->checklist==0.0.11->-r requirements.txt (line 1)) (3.4.0)\n",
            "Requirement already satisfied: zc.lockfile in /usr/local/lib/python3.7/dist-packages (from cherrypy->patternfork-nosql->checklist==0.0.11->-r requirements.txt (line 1)) (2.0)\n",
            "Requirement already satisfied: cheroot>=8.2.1 in /usr/local/lib/python3.7/dist-packages (from cherrypy->patternfork-nosql->checklist==0.0.11->-r requirements.txt (line 1)) (8.5.2)\n",
            "Requirement already satisfied: jaraco.functools in /usr/local/lib/python3.7/dist-packages (from cheroot>=8.2.1->cherrypy->patternfork-nosql->checklist==0.0.11->-r requirements.txt (line 1)) (3.3.0)\n",
            "Requirement already satisfied: tempora>=1.8 in /usr/local/lib/python3.7/dist-packages (from portend>=2.1.1->cherrypy->patternfork-nosql->checklist==0.0.11->-r requirements.txt (line 1)) (4.1.2)\n",
            "Requirement already satisfied: sgmllib3k in /usr/local/lib/python3.7/dist-packages (from feedparser->patternfork-nosql->checklist==0.0.11->-r requirements.txt (line 1)) (1.0.0)\n",
            "Requirement already satisfied: jaraco.text in /usr/local/lib/python3.7/dist-packages (from jaraco.collections->cherrypy->patternfork-nosql->checklist==0.0.11->-r requirements.txt (line 1)) (3.5.1)\n",
            "Requirement already satisfied: jaraco.classes in /usr/local/lib/python3.7/dist-packages (from jaraco.collections->cherrypy->patternfork-nosql->checklist==0.0.11->-r requirements.txt (line 1)) (3.2.1)\n",
            "Requirement already satisfied: cryptography in /usr/local/lib/python3.7/dist-packages (from pdfminer.six->patternfork-nosql->checklist==0.0.11->-r requirements.txt (line 1)) (35.0.0)\n",
            "Requirement already satisfied: cffi>=1.12 in /usr/local/lib/python3.7/dist-packages (from cryptography->pdfminer.six->patternfork-nosql->checklist==0.0.11->-r requirements.txt (line 1)) (1.14.6)\n",
            "Requirement already satisfied: pycparser in /usr/local/lib/python3.7/dist-packages (from cffi>=1.12->cryptography->pdfminer.six->patternfork-nosql->checklist==0.0.11->-r requirements.txt (line 1)) (2.20)\n",
            "Requirement already satisfied: qtpy in /usr/local/lib/python3.7/dist-packages (from qtconsole->jupyter>=1.0->checklist==0.0.11->-r requirements.txt (line 1)) (1.11.2)\n",
            "Collecting en-core-web-sm==3.0.0\n",
            "  Downloading https://github.com/explosion/spacy-models/releases/download/en_core_web_sm-3.0.0/en_core_web_sm-3.0.0-py3-none-any.whl (13.7 MB)\n",
            "\u001b[K     |████████████████████████████████| 13.7 MB 80 kB/s \n",
            "\u001b[?25hRequirement already satisfied: spacy<3.1.0,>=3.0.0 in /usr/local/lib/python3.7/dist-packages (from en-core-web-sm==3.0.0) (3.0.0)\n",
            "Requirement already satisfied: wasabi<1.1.0,>=0.8.1 in /usr/local/lib/python3.7/dist-packages (from spacy<3.1.0,>=3.0.0->en-core-web-sm==3.0.0) (0.8.2)\n",
            "Requirement already satisfied: blis<0.8.0,>=0.4.0 in /usr/local/lib/python3.7/dist-packages (from spacy<3.1.0,>=3.0.0->en-core-web-sm==3.0.0) (0.4.1)\n",
            "Requirement already satisfied: preshed<3.1.0,>=3.0.2 in /usr/local/lib/python3.7/dist-packages (from spacy<3.1.0,>=3.0.0->en-core-web-sm==3.0.0) (3.0.5)\n",
            "Requirement already satisfied: importlib-metadata>=0.20 in /usr/local/lib/python3.7/dist-packages (from spacy<3.1.0,>=3.0.0->en-core-web-sm==3.0.0) (4.8.1)\n",
            "Requirement already satisfied: typer<0.4.0,>=0.3.0 in /usr/local/lib/python3.7/dist-packages (from spacy<3.1.0,>=3.0.0->en-core-web-sm==3.0.0) (0.3.2)\n",
            "Requirement already satisfied: srsly<3.0.0,>=2.4.0 in /usr/local/lib/python3.7/dist-packages (from spacy<3.1.0,>=3.0.0->en-core-web-sm==3.0.0) (2.4.1)\n",
            "Requirement already satisfied: requests<3.0.0,>=2.13.0 in /usr/local/lib/python3.7/dist-packages (from spacy<3.1.0,>=3.0.0->en-core-web-sm==3.0.0) (2.25.1)\n",
            "Requirement already satisfied: pydantic<1.8.0,>=1.7.1 in /usr/local/lib/python3.7/dist-packages (from spacy<3.1.0,>=3.0.0->en-core-web-sm==3.0.0) (1.7.4)\n",
            "Requirement already satisfied: tqdm<5.0.0,>=4.38.0 in /usr/local/lib/python3.7/dist-packages (from spacy<3.1.0,>=3.0.0->en-core-web-sm==3.0.0) (4.49.0)\n",
            "Requirement already satisfied: cymem<2.1.0,>=2.0.2 in /usr/local/lib/python3.7/dist-packages (from spacy<3.1.0,>=3.0.0->en-core-web-sm==3.0.0) (2.0.5)\n",
            "Requirement already satisfied: pathy in /usr/local/lib/python3.7/dist-packages (from spacy<3.1.0,>=3.0.0->en-core-web-sm==3.0.0) (0.6.0)\n",
            "Requirement already satisfied: typing-extensions>=3.7.4 in /usr/local/lib/python3.7/dist-packages (from spacy<3.1.0,>=3.0.0->en-core-web-sm==3.0.0) (3.7.4.3)\n",
            "Requirement already satisfied: catalogue<2.1.0,>=2.0.1 in /usr/local/lib/python3.7/dist-packages (from spacy<3.1.0,>=3.0.0->en-core-web-sm==3.0.0) (2.0.6)\n",
            "Requirement already satisfied: packaging>=20.0 in /usr/local/lib/python3.7/dist-packages (from spacy<3.1.0,>=3.0.0->en-core-web-sm==3.0.0) (21.0)\n",
            "Requirement already satisfied: thinc<8.1.0,>=8.0.0 in /usr/local/lib/python3.7/dist-packages (from spacy<3.1.0,>=3.0.0->en-core-web-sm==3.0.0) (8.0.11)\n",
            "Requirement already satisfied: jinja2 in /usr/local/lib/python3.7/dist-packages (from spacy<3.1.0,>=3.0.0->en-core-web-sm==3.0.0) (2.11.3)\n",
            "Requirement already satisfied: murmurhash<1.1.0,>=0.28.0 in /usr/local/lib/python3.7/dist-packages (from spacy<3.1.0,>=3.0.0->en-core-web-sm==3.0.0) (1.0.5)\n",
            "Requirement already satisfied: spacy-legacy<3.1.0,>=3.0.0 in /usr/local/lib/python3.7/dist-packages (from spacy<3.1.0,>=3.0.0->en-core-web-sm==3.0.0) (3.0.8)\n",
            "Requirement already satisfied: setuptools in /usr/local/lib/python3.7/dist-packages (from spacy<3.1.0,>=3.0.0->en-core-web-sm==3.0.0) (57.4.0)\n",
            "Requirement already satisfied: numpy>=1.15.0 in /usr/local/lib/python3.7/dist-packages (from spacy<3.1.0,>=3.0.0->en-core-web-sm==3.0.0) (1.19.5)\n",
            "Requirement already satisfied: zipp>=0.5 in /usr/local/lib/python3.7/dist-packages (from catalogue<2.1.0,>=2.0.1->spacy<3.1.0,>=3.0.0->en-core-web-sm==3.0.0) (3.6.0)\n",
            "Requirement already satisfied: pyparsing>=2.0.2 in /usr/local/lib/python3.7/dist-packages (from packaging>=20.0->spacy<3.1.0,>=3.0.0->en-core-web-sm==3.0.0) (2.4.7)\n",
            "Requirement already satisfied: idna<3,>=2.5 in /usr/local/lib/python3.7/dist-packages (from requests<3.0.0,>=2.13.0->spacy<3.1.0,>=3.0.0->en-core-web-sm==3.0.0) (2.10)\n",
            "Requirement already satisfied: certifi>=2017.4.17 in /usr/local/lib/python3.7/dist-packages (from requests<3.0.0,>=2.13.0->spacy<3.1.0,>=3.0.0->en-core-web-sm==3.0.0) (2021.5.30)\n",
            "Requirement already satisfied: chardet<5,>=3.0.2 in /usr/local/lib/python3.7/dist-packages (from requests<3.0.0,>=2.13.0->spacy<3.1.0,>=3.0.0->en-core-web-sm==3.0.0) (3.0.4)\n",
            "Requirement already satisfied: urllib3<1.27,>=1.21.1 in /usr/local/lib/python3.7/dist-packages (from requests<3.0.0,>=2.13.0->spacy<3.1.0,>=3.0.0->en-core-web-sm==3.0.0) (1.25.11)\n",
            "Requirement already satisfied: click<7.2.0,>=7.1.1 in /usr/local/lib/python3.7/dist-packages (from typer<0.4.0,>=0.3.0->spacy<3.1.0,>=3.0.0->en-core-web-sm==3.0.0) (7.1.2)\n",
            "Requirement already satisfied: MarkupSafe>=0.23 in /usr/local/lib/python3.7/dist-packages (from jinja2->spacy<3.1.0,>=3.0.0->en-core-web-sm==3.0.0) (2.0.1)\n",
            "Requirement already satisfied: smart-open<6.0.0,>=5.0.0 in /usr/local/lib/python3.7/dist-packages (from pathy->spacy<3.1.0,>=3.0.0->en-core-web-sm==3.0.0) (5.2.1)\n",
            "\u001b[38;5;2m✔ Download and installation successful\u001b[0m\n",
            "You can now load the package via spacy.load('en_core_web_sm')\n",
            "Requirement already satisfied: SoundsLike==0.0.11 in /usr/local/lib/python3.7/dist-packages (from -r transformations/close_homophones_swap/requirements.txt (line 2)) (0.0.11)\n",
            "Requirement already satisfied: g2p-en>=2.1.0 in /usr/local/lib/python3.7/dist-packages (from SoundsLike==0.0.11->-r transformations/close_homophones_swap/requirements.txt (line 2)) (2.1.0)\n",
            "Requirement already satisfied: cmudict>=0.4.4 in /usr/local/lib/python3.7/dist-packages (from SoundsLike==0.0.11->-r transformations/close_homophones_swap/requirements.txt (line 2)) (1.0.2)\n",
            "Requirement already satisfied: distance>=0.1.3 in /usr/local/lib/python3.7/dist-packages (from g2p-en>=2.1.0->SoundsLike==0.0.11->-r transformations/close_homophones_swap/requirements.txt (line 2)) (0.1.3)\n",
            "Requirement already satisfied: inflect>=0.3.1 in /usr/local/lib/python3.7/dist-packages (from g2p-en>=2.1.0->SoundsLike==0.0.11->-r transformations/close_homophones_swap/requirements.txt (line 2)) (5.3.0)\n",
            "Requirement already satisfied: numpy>=1.13.1 in /usr/local/lib/python3.7/dist-packages (from g2p-en>=2.1.0->SoundsLike==0.0.11->-r transformations/close_homophones_swap/requirements.txt (line 2)) (1.19.5)\n",
            "Requirement already satisfied: nltk>=3.2.4 in /usr/local/lib/python3.7/dist-packages (from g2p-en>=2.1.0->SoundsLike==0.0.11->-r transformations/close_homophones_swap/requirements.txt (line 2)) (3.6.2)\n",
            "Requirement already satisfied: regex in /usr/local/lib/python3.7/dist-packages (from nltk>=3.2.4->g2p-en>=2.1.0->SoundsLike==0.0.11->-r transformations/close_homophones_swap/requirements.txt (line 2)) (2021.10.21)\n",
            "Requirement already satisfied: click in /usr/local/lib/python3.7/dist-packages (from nltk>=3.2.4->g2p-en>=2.1.0->SoundsLike==0.0.11->-r transformations/close_homophones_swap/requirements.txt (line 2)) (7.1.2)\n",
            "Requirement already satisfied: tqdm in /usr/local/lib/python3.7/dist-packages (from nltk>=3.2.4->g2p-en>=2.1.0->SoundsLike==0.0.11->-r transformations/close_homophones_swap/requirements.txt (line 2)) (4.49.0)\n",
            "Requirement already satisfied: joblib in /usr/local/lib/python3.7/dist-packages (from nltk>=3.2.4->g2p-en>=2.1.0->SoundsLike==0.0.11->-r transformations/close_homophones_swap/requirements.txt (line 2)) (1.0.1)\n",
            "Requirement already satisfied: aaransia in /usr/local/lib/python3.7/dist-packages (from -r transformations/mix_transliteration/requirements.txt (line 1)) (1.1)\n",
            "Requirement already satisfied: unidecode in /usr/local/lib/python3.7/dist-packages (from aaransia->-r transformations/mix_transliteration/requirements.txt (line 1)) (1.2.0)\n",
            "Requirement already satisfied: numpy in /usr/local/lib/python3.7/dist-packages (from aaransia->-r transformations/mix_transliteration/requirements.txt (line 1)) (1.19.5)\n",
            "Requirement already satisfied: pandas in /usr/local/lib/python3.7/dist-packages (from aaransia->-r transformations/mix_transliteration/requirements.txt (line 1)) (1.3.4)\n",
            "Requirement already satisfied: python-dateutil>=2.7.3 in /usr/local/lib/python3.7/dist-packages (from pandas->aaransia->-r transformations/mix_transliteration/requirements.txt (line 1)) (2.8.2)\n",
            "Requirement already satisfied: pytz>=2017.3 in /usr/local/lib/python3.7/dist-packages (from pandas->aaransia->-r transformations/mix_transliteration/requirements.txt (line 1)) (2018.9)\n",
            "Requirement already satisfied: six>=1.5 in /usr/local/lib/python3.7/dist-packages (from python-dateutil>=2.7.3->pandas->aaransia->-r transformations/mix_transliteration/requirements.txt (line 1)) (1.15.0)\n",
            "Requirement already satisfied: nltk==3.6.2 in /usr/local/lib/python3.7/dist-packages (from -r transformations/adjectives_antonyms_switch/requirements.txt (line 1)) (3.6.2)\n",
            "Requirement already satisfied: tqdm in /usr/local/lib/python3.7/dist-packages (from nltk==3.6.2->-r transformations/adjectives_antonyms_switch/requirements.txt (line 1)) (4.49.0)\n",
            "Requirement already satisfied: click in /usr/local/lib/python3.7/dist-packages (from nltk==3.6.2->-r transformations/adjectives_antonyms_switch/requirements.txt (line 1)) (7.1.2)\n",
            "Requirement already satisfied: joblib in /usr/local/lib/python3.7/dist-packages (from nltk==3.6.2->-r transformations/adjectives_antonyms_switch/requirements.txt (line 1)) (1.0.1)\n",
            "Requirement already satisfied: regex in /usr/local/lib/python3.7/dist-packages (from nltk==3.6.2->-r transformations/adjectives_antonyms_switch/requirements.txt (line 1)) (2021.10.21)\n",
            "Requirement already satisfied: nltk==3.6.2 in /usr/local/lib/python3.7/dist-packages (from -r transformations/hashtagify/requirements.txt (line 1)) (3.6.2)\n",
            "Requirement already satisfied: joblib in /usr/local/lib/python3.7/dist-packages (from nltk==3.6.2->-r transformations/hashtagify/requirements.txt (line 1)) (1.0.1)\n",
            "Requirement already satisfied: regex in /usr/local/lib/python3.7/dist-packages (from nltk==3.6.2->-r transformations/hashtagify/requirements.txt (line 1)) (2021.10.21)\n",
            "Requirement already satisfied: tqdm in /usr/local/lib/python3.7/dist-packages (from nltk==3.6.2->-r transformations/hashtagify/requirements.txt (line 1)) (4.49.0)\n",
            "Requirement already satisfied: click in /usr/local/lib/python3.7/dist-packages (from nltk==3.6.2->-r transformations/hashtagify/requirements.txt (line 1)) (7.1.2)\n",
            "Requirement already satisfied: g2pM==0.1.2.5 in /usr/local/lib/python3.7/dist-packages (from -r transformations/pinyin/requirements.txt (line 1)) (0.1.2.5)\n",
            "Requirement already satisfied: spacy>=3.0.0 in /usr/local/lib/python3.7/dist-packages (from -r transformations/gender_neopronouns/requirements.txt (line 1)) (3.0.0)\n",
            "Requirement already satisfied: typer<0.4.0,>=0.3.0 in /usr/local/lib/python3.7/dist-packages (from spacy>=3.0.0->-r transformations/gender_neopronouns/requirements.txt (line 1)) (0.3.2)\n",
            "Requirement already satisfied: requests<3.0.0,>=2.13.0 in /usr/local/lib/python3.7/dist-packages (from spacy>=3.0.0->-r transformations/gender_neopronouns/requirements.txt (line 1)) (2.25.1)\n",
            "Requirement already satisfied: preshed<3.1.0,>=3.0.2 in /usr/local/lib/python3.7/dist-packages (from spacy>=3.0.0->-r transformations/gender_neopronouns/requirements.txt (line 1)) (3.0.5)\n",
            "Requirement already satisfied: blis<0.8.0,>=0.4.0 in /usr/local/lib/python3.7/dist-packages (from spacy>=3.0.0->-r transformations/gender_neopronouns/requirements.txt (line 1)) (0.4.1)\n",
            "Requirement already satisfied: thinc<8.1.0,>=8.0.0 in /usr/local/lib/python3.7/dist-packages (from spacy>=3.0.0->-r transformations/gender_neopronouns/requirements.txt (line 1)) (8.0.11)\n",
            "Requirement already satisfied: catalogue<2.1.0,>=2.0.1 in /usr/local/lib/python3.7/dist-packages (from spacy>=3.0.0->-r transformations/gender_neopronouns/requirements.txt (line 1)) (2.0.6)\n",
            "Requirement already satisfied: pydantic<1.8.0,>=1.7.1 in /usr/local/lib/python3.7/dist-packages (from spacy>=3.0.0->-r transformations/gender_neopronouns/requirements.txt (line 1)) (1.7.4)\n",
            "Requirement already satisfied: importlib-metadata>=0.20 in /usr/local/lib/python3.7/dist-packages (from spacy>=3.0.0->-r transformations/gender_neopronouns/requirements.txt (line 1)) (4.8.1)\n",
            "Requirement already satisfied: packaging>=20.0 in /usr/local/lib/python3.7/dist-packages (from spacy>=3.0.0->-r transformations/gender_neopronouns/requirements.txt (line 1)) (21.0)\n",
            "Requirement already satisfied: srsly<3.0.0,>=2.4.0 in /usr/local/lib/python3.7/dist-packages (from spacy>=3.0.0->-r transformations/gender_neopronouns/requirements.txt (line 1)) (2.4.1)\n",
            "Requirement already satisfied: tqdm<5.0.0,>=4.38.0 in /usr/local/lib/python3.7/dist-packages (from spacy>=3.0.0->-r transformations/gender_neopronouns/requirements.txt (line 1)) (4.49.0)\n",
            "Requirement already satisfied: pathy in /usr/local/lib/python3.7/dist-packages (from spacy>=3.0.0->-r transformations/gender_neopronouns/requirements.txt (line 1)) (0.6.0)\n",
            "Requirement already satisfied: murmurhash<1.1.0,>=0.28.0 in /usr/local/lib/python3.7/dist-packages (from spacy>=3.0.0->-r transformations/gender_neopronouns/requirements.txt (line 1)) (1.0.5)\n",
            "Requirement already satisfied: jinja2 in /usr/local/lib/python3.7/dist-packages (from spacy>=3.0.0->-r transformations/gender_neopronouns/requirements.txt (line 1)) (2.11.3)\n",
            "Requirement already satisfied: wasabi<1.1.0,>=0.8.1 in /usr/local/lib/python3.7/dist-packages (from spacy>=3.0.0->-r transformations/gender_neopronouns/requirements.txt (line 1)) (0.8.2)\n",
            "Requirement already satisfied: numpy>=1.15.0 in /usr/local/lib/python3.7/dist-packages (from spacy>=3.0.0->-r transformations/gender_neopronouns/requirements.txt (line 1)) (1.19.5)\n",
            "Requirement already satisfied: cymem<2.1.0,>=2.0.2 in /usr/local/lib/python3.7/dist-packages (from spacy>=3.0.0->-r transformations/gender_neopronouns/requirements.txt (line 1)) (2.0.5)\n",
            "Requirement already satisfied: setuptools in /usr/local/lib/python3.7/dist-packages (from spacy>=3.0.0->-r transformations/gender_neopronouns/requirements.txt (line 1)) (57.4.0)\n",
            "Requirement already satisfied: spacy-legacy<3.1.0,>=3.0.0 in /usr/local/lib/python3.7/dist-packages (from spacy>=3.0.0->-r transformations/gender_neopronouns/requirements.txt (line 1)) (3.0.8)\n",
            "Requirement already satisfied: typing-extensions>=3.7.4 in /usr/local/lib/python3.7/dist-packages (from spacy>=3.0.0->-r transformations/gender_neopronouns/requirements.txt (line 1)) (3.7.4.3)\n",
            "Requirement already satisfied: zipp>=0.5 in /usr/local/lib/python3.7/dist-packages (from catalogue<2.1.0,>=2.0.1->spacy>=3.0.0->-r transformations/gender_neopronouns/requirements.txt (line 1)) (3.6.0)\n",
            "Requirement already satisfied: pyparsing>=2.0.2 in /usr/local/lib/python3.7/dist-packages (from packaging>=20.0->spacy>=3.0.0->-r transformations/gender_neopronouns/requirements.txt (line 1)) (2.4.7)\n",
            "Requirement already satisfied: idna<3,>=2.5 in /usr/local/lib/python3.7/dist-packages (from requests<3.0.0,>=2.13.0->spacy>=3.0.0->-r transformations/gender_neopronouns/requirements.txt (line 1)) (2.10)\n",
            "Requirement already satisfied: urllib3<1.27,>=1.21.1 in /usr/local/lib/python3.7/dist-packages (from requests<3.0.0,>=2.13.0->spacy>=3.0.0->-r transformations/gender_neopronouns/requirements.txt (line 1)) (1.25.11)\n",
            "Requirement already satisfied: certifi>=2017.4.17 in /usr/local/lib/python3.7/dist-packages (from requests<3.0.0,>=2.13.0->spacy>=3.0.0->-r transformations/gender_neopronouns/requirements.txt (line 1)) (2021.5.30)\n",
            "Requirement already satisfied: chardet<5,>=3.0.2 in /usr/local/lib/python3.7/dist-packages (from requests<3.0.0,>=2.13.0->spacy>=3.0.0->-r transformations/gender_neopronouns/requirements.txt (line 1)) (3.0.4)\n",
            "Requirement already satisfied: click<7.2.0,>=7.1.1 in /usr/local/lib/python3.7/dist-packages (from typer<0.4.0,>=0.3.0->spacy>=3.0.0->-r transformations/gender_neopronouns/requirements.txt (line 1)) (7.1.2)\n",
            "Requirement already satisfied: MarkupSafe>=0.23 in /usr/local/lib/python3.7/dist-packages (from jinja2->spacy>=3.0.0->-r transformations/gender_neopronouns/requirements.txt (line 1)) (2.0.1)\n",
            "Requirement already satisfied: smart-open<6.0.0,>=5.0.0 in /usr/local/lib/python3.7/dist-packages (from pathy->spacy>=3.0.0->-r transformations/gender_neopronouns/requirements.txt (line 1)) (5.2.1)\n",
            "Requirement already satisfied: allennlp==2.5.0 in /usr/local/lib/python3.7/dist-packages (from -r transformations/sentence_reordering/requirements.txt (line 2)) (2.5.0)\n",
            "Requirement already satisfied: allennlp-models==2.5.0 in /usr/local/lib/python3.7/dist-packages (from -r transformations/sentence_reordering/requirements.txt (line 3)) (2.5.0)\n",
            "Requirement already satisfied: nltk in /usr/local/lib/python3.7/dist-packages (from allennlp==2.5.0->-r transformations/sentence_reordering/requirements.txt (line 2)) (3.6.2)\n",
            "Requirement already satisfied: numpy in /usr/local/lib/python3.7/dist-packages (from allennlp==2.5.0->-r transformations/sentence_reordering/requirements.txt (line 2)) (1.19.5)\n",
            "Requirement already satisfied: sentencepiece in /usr/local/lib/python3.7/dist-packages (from allennlp==2.5.0->-r transformations/sentence_reordering/requirements.txt (line 2)) (0.1.95)\n",
            "Requirement already satisfied: tqdm>=4.19 in /usr/local/lib/python3.7/dist-packages (from allennlp==2.5.0->-r transformations/sentence_reordering/requirements.txt (line 2)) (4.49.0)\n",
            "Requirement already satisfied: h5py in /usr/local/lib/python3.7/dist-packages (from allennlp==2.5.0->-r transformations/sentence_reordering/requirements.txt (line 2)) (3.1.0)\n",
            "Requirement already satisfied: huggingface-hub>=0.0.8 in /usr/local/lib/python3.7/dist-packages (from allennlp==2.5.0->-r transformations/sentence_reordering/requirements.txt (line 2)) (0.0.8)\n",
            "Requirement already satisfied: more-itertools in /usr/local/lib/python3.7/dist-packages (from allennlp==2.5.0->-r transformations/sentence_reordering/requirements.txt (line 2)) (8.10.0)\n",
            "Requirement already satisfied: jsonnet>=0.10.0 in /usr/local/lib/python3.7/dist-packages (from allennlp==2.5.0->-r transformations/sentence_reordering/requirements.txt (line 2)) (0.17.0)\n",
            "Requirement already satisfied: boto3<2.0,>=1.14 in /usr/local/lib/python3.7/dist-packages (from allennlp==2.5.0->-r transformations/sentence_reordering/requirements.txt (line 2)) (1.19.0)\n",
            "Requirement already satisfied: spacy<3.1,>=2.1.0 in /usr/local/lib/python3.7/dist-packages (from allennlp==2.5.0->-r transformations/sentence_reordering/requirements.txt (line 2)) (3.0.0)\n",
            "Requirement already satisfied: checklist==0.0.11 in /usr/local/lib/python3.7/dist-packages (from allennlp==2.5.0->-r transformations/sentence_reordering/requirements.txt (line 2)) (0.0.11)\n",
            "Requirement already satisfied: filelock<3.1,>=3.0 in /usr/local/lib/python3.7/dist-packages (from allennlp==2.5.0->-r transformations/sentence_reordering/requirements.txt (line 2)) (3.0.12)\n",
            "Requirement already satisfied: transformers<4.7,>=4.1 in /usr/local/lib/python3.7/dist-packages (from allennlp==2.5.0->-r transformations/sentence_reordering/requirements.txt (line 2)) (4.6.1)\n",
            "Requirement already satisfied: tensorboardX>=1.2 in /usr/local/lib/python3.7/dist-packages (from allennlp==2.5.0->-r transformations/sentence_reordering/requirements.txt (line 2)) (2.4)\n",
            "Requirement already satisfied: torch<1.9.0,>=1.6.0 in /usr/local/lib/python3.7/dist-packages (from allennlp==2.5.0->-r transformations/sentence_reordering/requirements.txt (line 2)) (1.8.1)\n",
            "Requirement already satisfied: termcolor==1.1.0 in /usr/local/lib/python3.7/dist-packages (from allennlp==2.5.0->-r transformations/sentence_reordering/requirements.txt (line 2)) (1.1.0)\n",
            "Requirement already satisfied: torchvision<0.10.0,>=0.8.1 in /usr/local/lib/python3.7/dist-packages (from allennlp==2.5.0->-r transformations/sentence_reordering/requirements.txt (line 2)) (0.9.1)\n",
            "Requirement already satisfied: google-cloud-storage<1.39.0,>=1.38.0 in /usr/local/lib/python3.7/dist-packages (from allennlp==2.5.0->-r transformations/sentence_reordering/requirements.txt (line 2)) (1.38.0)\n",
            "Requirement already satisfied: requests>=2.18 in /usr/local/lib/python3.7/dist-packages (from allennlp==2.5.0->-r transformations/sentence_reordering/requirements.txt (line 2)) (2.25.1)\n",
            "Requirement already satisfied: lmdb in /usr/local/lib/python3.7/dist-packages (from allennlp==2.5.0->-r transformations/sentence_reordering/requirements.txt (line 2)) (0.99)\n",
            "Requirement already satisfied: scikit-learn in /usr/local/lib/python3.7/dist-packages (from allennlp==2.5.0->-r transformations/sentence_reordering/requirements.txt (line 2)) (0.22.2.post1)\n",
            "Requirement already satisfied: scipy in /usr/local/lib/python3.7/dist-packages (from allennlp==2.5.0->-r transformations/sentence_reordering/requirements.txt (line 2)) (1.4.1)\n",
            "Requirement already satisfied: overrides==3.1.0 in /usr/local/lib/python3.7/dist-packages (from allennlp==2.5.0->-r transformations/sentence_reordering/requirements.txt (line 2)) (3.1.0)\n",
            "Requirement already satisfied: wandb<0.11.0,>=0.10.0 in /usr/local/lib/python3.7/dist-packages (from allennlp==2.5.0->-r transformations/sentence_reordering/requirements.txt (line 2)) (0.10.33)\n",
            "Requirement already satisfied: pytest in /usr/local/lib/python3.7/dist-packages (from allennlp==2.5.0->-r transformations/sentence_reordering/requirements.txt (line 2)) (6.2.4)\n",
            "Requirement already satisfied: ftfy in /usr/local/lib/python3.7/dist-packages (from allennlp-models==2.5.0->-r transformations/sentence_reordering/requirements.txt (line 3)) (6.0.3)\n",
            "Requirement already satisfied: word2number>=1.1 in /usr/local/lib/python3.7/dist-packages (from allennlp-models==2.5.0->-r transformations/sentence_reordering/requirements.txt (line 3)) (1.1)\n",
            "Requirement already satisfied: py-rouge==1.1 in /usr/local/lib/python3.7/dist-packages (from allennlp-models==2.5.0->-r transformations/sentence_reordering/requirements.txt (line 3)) (1.1)\n",
            "Requirement already satisfied: conllu==4.4 in /usr/local/lib/python3.7/dist-packages (from allennlp-models==2.5.0->-r transformations/sentence_reordering/requirements.txt (line 3)) (4.4)\n",
            "Requirement already satisfied: ipywidgets>=7.5 in /usr/local/lib/python3.7/dist-packages (from checklist==0.0.11->allennlp==2.5.0->-r transformations/sentence_reordering/requirements.txt (line 2)) (7.6.5)\n",
            "Requirement already satisfied: patternfork-nosql in /usr/local/lib/python3.7/dist-packages (from checklist==0.0.11->allennlp==2.5.0->-r transformations/sentence_reordering/requirements.txt (line 2)) (3.6)\n",
            "Requirement already satisfied: iso-639 in /usr/local/lib/python3.7/dist-packages (from checklist==0.0.11->allennlp==2.5.0->-r transformations/sentence_reordering/requirements.txt (line 2)) (0.4.5)\n",
            "Requirement already satisfied: munch>=2.5 in /usr/local/lib/python3.7/dist-packages (from checklist==0.0.11->allennlp==2.5.0->-r transformations/sentence_reordering/requirements.txt (line 2)) (2.5.0)\n",
            "Requirement already satisfied: dill>=0.3.1 in /usr/local/lib/python3.7/dist-packages (from checklist==0.0.11->allennlp==2.5.0->-r transformations/sentence_reordering/requirements.txt (line 2)) (0.3.4)\n",
            "Requirement already satisfied: jupyter>=1.0 in /usr/local/lib/python3.7/dist-packages (from checklist==0.0.11->allennlp==2.5.0->-r transformations/sentence_reordering/requirements.txt (line 2)) (1.0.0)\n",
            "Requirement already satisfied: botocore<1.23.0,>=1.22.0 in /usr/local/lib/python3.7/dist-packages (from boto3<2.0,>=1.14->allennlp==2.5.0->-r transformations/sentence_reordering/requirements.txt (line 2)) (1.22.0)\n",
            "Requirement already satisfied: jmespath<1.0.0,>=0.7.1 in /usr/local/lib/python3.7/dist-packages (from boto3<2.0,>=1.14->allennlp==2.5.0->-r transformations/sentence_reordering/requirements.txt (line 2)) (0.10.0)\n",
            "Requirement already satisfied: s3transfer<0.6.0,>=0.5.0 in /usr/local/lib/python3.7/dist-packages (from boto3<2.0,>=1.14->allennlp==2.5.0->-r transformations/sentence_reordering/requirements.txt (line 2)) (0.5.0)\n",
            "Requirement already satisfied: python-dateutil<3.0.0,>=2.1 in /usr/local/lib/python3.7/dist-packages (from botocore<1.23.0,>=1.22.0->boto3<2.0,>=1.14->allennlp==2.5.0->-r transformations/sentence_reordering/requirements.txt (line 2)) (2.8.2)\n",
            "Requirement already satisfied: urllib3<1.27,>=1.25.4 in /usr/local/lib/python3.7/dist-packages (from botocore<1.23.0,>=1.22.0->boto3<2.0,>=1.14->allennlp==2.5.0->-r transformations/sentence_reordering/requirements.txt (line 2)) (1.25.11)\n",
            "Requirement already satisfied: google-resumable-media<2.0dev,>=1.2.0 in /usr/local/lib/python3.7/dist-packages (from google-cloud-storage<1.39.0,>=1.38.0->allennlp==2.5.0->-r transformations/sentence_reordering/requirements.txt (line 2)) (1.3.3)\n",
            "Requirement already satisfied: google-auth<2.0dev,>=1.11.0 in /usr/local/lib/python3.7/dist-packages (from google-cloud-storage<1.39.0,>=1.38.0->allennlp==2.5.0->-r transformations/sentence_reordering/requirements.txt (line 2)) (1.35.0)\n",
            "Requirement already satisfied: google-cloud-core<2.0dev,>=1.4.1 in /usr/local/lib/python3.7/dist-packages (from google-cloud-storage<1.39.0,>=1.38.0->allennlp==2.5.0->-r transformations/sentence_reordering/requirements.txt (line 2)) (1.7.2)\n",
            "Requirement already satisfied: cachetools<5.0,>=2.0.0 in /usr/local/lib/python3.7/dist-packages (from google-auth<2.0dev,>=1.11.0->google-cloud-storage<1.39.0,>=1.38.0->allennlp==2.5.0->-r transformations/sentence_reordering/requirements.txt (line 2)) (4.2.4)\n",
            "Requirement already satisfied: setuptools>=40.3.0 in /usr/local/lib/python3.7/dist-packages (from google-auth<2.0dev,>=1.11.0->google-cloud-storage<1.39.0,>=1.38.0->allennlp==2.5.0->-r transformations/sentence_reordering/requirements.txt (line 2)) (57.4.0)\n",
            "Requirement already satisfied: pyasn1-modules>=0.2.1 in /usr/local/lib/python3.7/dist-packages (from google-auth<2.0dev,>=1.11.0->google-cloud-storage<1.39.0,>=1.38.0->allennlp==2.5.0->-r transformations/sentence_reordering/requirements.txt (line 2)) (0.2.8)\n",
            "Requirement already satisfied: six>=1.9.0 in /usr/local/lib/python3.7/dist-packages (from google-auth<2.0dev,>=1.11.0->google-cloud-storage<1.39.0,>=1.38.0->allennlp==2.5.0->-r transformations/sentence_reordering/requirements.txt (line 2)) (1.15.0)\n",
            "Requirement already satisfied: rsa<5,>=3.1.4 in /usr/local/lib/python3.7/dist-packages (from google-auth<2.0dev,>=1.11.0->google-cloud-storage<1.39.0,>=1.38.0->allennlp==2.5.0->-r transformations/sentence_reordering/requirements.txt (line 2)) (4.7.2)\n",
            "Requirement already satisfied: google-api-core<2.0.0dev,>=1.21.0 in /usr/local/lib/python3.7/dist-packages (from google-cloud-core<2.0dev,>=1.4.1->google-cloud-storage<1.39.0,>=1.38.0->allennlp==2.5.0->-r transformations/sentence_reordering/requirements.txt (line 2)) (1.26.3)\n",
            "Requirement already satisfied: pytz in /usr/local/lib/python3.7/dist-packages (from google-api-core<2.0.0dev,>=1.21.0->google-cloud-core<2.0dev,>=1.4.1->google-cloud-storage<1.39.0,>=1.38.0->allennlp==2.5.0->-r transformations/sentence_reordering/requirements.txt (line 2)) (2018.9)\n",
            "Requirement already satisfied: googleapis-common-protos<2.0dev,>=1.6.0 in /usr/local/lib/python3.7/dist-packages (from google-api-core<2.0.0dev,>=1.21.0->google-cloud-core<2.0dev,>=1.4.1->google-cloud-storage<1.39.0,>=1.38.0->allennlp==2.5.0->-r transformations/sentence_reordering/requirements.txt (line 2)) (1.53.0)\n",
            "Requirement already satisfied: protobuf>=3.12.0 in /usr/local/lib/python3.7/dist-packages (from google-api-core<2.0.0dev,>=1.21.0->google-cloud-core<2.0dev,>=1.4.1->google-cloud-storage<1.39.0,>=1.38.0->allennlp==2.5.0->-r transformations/sentence_reordering/requirements.txt (line 2)) (3.17.3)\n",
            "Requirement already satisfied: packaging>=14.3 in /usr/local/lib/python3.7/dist-packages (from google-api-core<2.0.0dev,>=1.21.0->google-cloud-core<2.0dev,>=1.4.1->google-cloud-storage<1.39.0,>=1.38.0->allennlp==2.5.0->-r transformations/sentence_reordering/requirements.txt (line 2)) (21.0)\n",
            "Requirement already satisfied: google-crc32c<2.0dev,>=1.0 in /usr/local/lib/python3.7/dist-packages (from google-resumable-media<2.0dev,>=1.2.0->google-cloud-storage<1.39.0,>=1.38.0->allennlp==2.5.0->-r transformations/sentence_reordering/requirements.txt (line 2)) (1.3.0)\n",
            "Requirement already satisfied: importlib-metadata in /usr/local/lib/python3.7/dist-packages (from huggingface-hub>=0.0.8->allennlp==2.5.0->-r transformations/sentence_reordering/requirements.txt (line 2)) (4.8.1)\n",
            "Requirement already satisfied: ipython>=4.0.0 in /usr/local/lib/python3.7/dist-packages (from ipywidgets>=7.5->checklist==0.0.11->allennlp==2.5.0->-r transformations/sentence_reordering/requirements.txt (line 2)) (5.5.0)\n",
            "Requirement already satisfied: ipykernel>=4.5.1 in /usr/local/lib/python3.7/dist-packages (from ipywidgets>=7.5->checklist==0.0.11->allennlp==2.5.0->-r transformations/sentence_reordering/requirements.txt (line 2)) (4.10.1)\n",
            "Requirement already satisfied: ipython-genutils~=0.2.0 in /usr/local/lib/python3.7/dist-packages (from ipywidgets>=7.5->checklist==0.0.11->allennlp==2.5.0->-r transformations/sentence_reordering/requirements.txt (line 2)) (0.2.0)\n",
            "Requirement already satisfied: nbformat>=4.2.0 in /usr/local/lib/python3.7/dist-packages (from ipywidgets>=7.5->checklist==0.0.11->allennlp==2.5.0->-r transformations/sentence_reordering/requirements.txt (line 2)) (5.1.3)\n",
            "Requirement already satisfied: jupyterlab-widgets>=1.0.0 in /usr/local/lib/python3.7/dist-packages (from ipywidgets>=7.5->checklist==0.0.11->allennlp==2.5.0->-r transformations/sentence_reordering/requirements.txt (line 2)) (1.0.2)\n",
            "Requirement already satisfied: widgetsnbextension~=3.5.0 in /usr/local/lib/python3.7/dist-packages (from ipywidgets>=7.5->checklist==0.0.11->allennlp==2.5.0->-r transformations/sentence_reordering/requirements.txt (line 2)) (3.5.1)\n",
            "Requirement already satisfied: traitlets>=4.3.1 in /usr/local/lib/python3.7/dist-packages (from ipywidgets>=7.5->checklist==0.0.11->allennlp==2.5.0->-r transformations/sentence_reordering/requirements.txt (line 2)) (5.1.0)\n",
            "Requirement already satisfied: tornado>=4.0 in /usr/local/lib/python3.7/dist-packages (from ipykernel>=4.5.1->ipywidgets>=7.5->checklist==0.0.11->allennlp==2.5.0->-r transformations/sentence_reordering/requirements.txt (line 2)) (5.1.1)\n",
            "Requirement already satisfied: jupyter-client in /usr/local/lib/python3.7/dist-packages (from ipykernel>=4.5.1->ipywidgets>=7.5->checklist==0.0.11->allennlp==2.5.0->-r transformations/sentence_reordering/requirements.txt (line 2)) (5.3.5)\n",
            "Requirement already satisfied: decorator in /usr/local/lib/python3.7/dist-packages (from ipython>=4.0.0->ipywidgets>=7.5->checklist==0.0.11->allennlp==2.5.0->-r transformations/sentence_reordering/requirements.txt (line 2)) (4.4.2)\n",
            "Requirement already satisfied: pickleshare in /usr/local/lib/python3.7/dist-packages (from ipython>=4.0.0->ipywidgets>=7.5->checklist==0.0.11->allennlp==2.5.0->-r transformations/sentence_reordering/requirements.txt (line 2)) (0.7.5)\n",
            "Requirement already satisfied: pexpect in /usr/local/lib/python3.7/dist-packages (from ipython>=4.0.0->ipywidgets>=7.5->checklist==0.0.11->allennlp==2.5.0->-r transformations/sentence_reordering/requirements.txt (line 2)) (4.8.0)\n",
            "Requirement already satisfied: prompt-toolkit<2.0.0,>=1.0.4 in /usr/local/lib/python3.7/dist-packages (from ipython>=4.0.0->ipywidgets>=7.5->checklist==0.0.11->allennlp==2.5.0->-r transformations/sentence_reordering/requirements.txt (line 2)) (1.0.18)\n",
            "Requirement already satisfied: simplegeneric>0.8 in /usr/local/lib/python3.7/dist-packages (from ipython>=4.0.0->ipywidgets>=7.5->checklist==0.0.11->allennlp==2.5.0->-r transformations/sentence_reordering/requirements.txt (line 2)) (0.8.1)\n",
            "Requirement already satisfied: pygments in /usr/local/lib/python3.7/dist-packages (from ipython>=4.0.0->ipywidgets>=7.5->checklist==0.0.11->allennlp==2.5.0->-r transformations/sentence_reordering/requirements.txt (line 2)) (2.6.1)\n",
            "Requirement already satisfied: qtconsole in /usr/local/lib/python3.7/dist-packages (from jupyter>=1.0->checklist==0.0.11->allennlp==2.5.0->-r transformations/sentence_reordering/requirements.txt (line 2)) (5.1.1)\n",
            "Requirement already satisfied: jupyter-console in /usr/local/lib/python3.7/dist-packages (from jupyter>=1.0->checklist==0.0.11->allennlp==2.5.0->-r transformations/sentence_reordering/requirements.txt (line 2)) (5.2.0)\n",
            "Requirement already satisfied: notebook in /usr/local/lib/python3.7/dist-packages (from jupyter>=1.0->checklist==0.0.11->allennlp==2.5.0->-r transformations/sentence_reordering/requirements.txt (line 2)) (5.3.1)\n",
            "Requirement already satisfied: nbconvert in /usr/local/lib/python3.7/dist-packages (from jupyter>=1.0->checklist==0.0.11->allennlp==2.5.0->-r transformations/sentence_reordering/requirements.txt (line 2)) (5.6.1)\n",
            "Requirement already satisfied: jsonschema!=2.5.0,>=2.4 in /usr/local/lib/python3.7/dist-packages (from nbformat>=4.2.0->ipywidgets>=7.5->checklist==0.0.11->allennlp==2.5.0->-r transformations/sentence_reordering/requirements.txt (line 2)) (2.6.0)\n",
            "Requirement already satisfied: jupyter-core in /usr/local/lib/python3.7/dist-packages (from nbformat>=4.2.0->ipywidgets>=7.5->checklist==0.0.11->allennlp==2.5.0->-r transformations/sentence_reordering/requirements.txt (line 2)) (4.8.1)\n",
            "Requirement already satisfied: pyparsing>=2.0.2 in /usr/local/lib/python3.7/dist-packages (from packaging>=14.3->google-api-core<2.0.0dev,>=1.21.0->google-cloud-core<2.0dev,>=1.4.1->google-cloud-storage<1.39.0,>=1.38.0->allennlp==2.5.0->-r transformations/sentence_reordering/requirements.txt (line 2)) (2.4.7)\n",
            "Requirement already satisfied: wcwidth in /usr/local/lib/python3.7/dist-packages (from prompt-toolkit<2.0.0,>=1.0.4->ipython>=4.0.0->ipywidgets>=7.5->checklist==0.0.11->allennlp==2.5.0->-r transformations/sentence_reordering/requirements.txt (line 2)) (0.2.5)\n",
            "Requirement already satisfied: pyasn1<0.5.0,>=0.4.6 in /usr/local/lib/python3.7/dist-packages (from pyasn1-modules>=0.2.1->google-auth<2.0dev,>=1.11.0->google-cloud-storage<1.39.0,>=1.38.0->allennlp==2.5.0->-r transformations/sentence_reordering/requirements.txt (line 2)) (0.4.8)\n",
            "Requirement already satisfied: certifi>=2017.4.17 in /usr/local/lib/python3.7/dist-packages (from requests>=2.18->allennlp==2.5.0->-r transformations/sentence_reordering/requirements.txt (line 2)) (2021.5.30)\n",
            "Requirement already satisfied: chardet<5,>=3.0.2 in /usr/local/lib/python3.7/dist-packages (from requests>=2.18->allennlp==2.5.0->-r transformations/sentence_reordering/requirements.txt (line 2)) (3.0.4)\n",
            "Requirement already satisfied: idna<3,>=2.5 in /usr/local/lib/python3.7/dist-packages (from requests>=2.18->allennlp==2.5.0->-r transformations/sentence_reordering/requirements.txt (line 2)) (2.10)\n",
            "Requirement already satisfied: jinja2 in /usr/local/lib/python3.7/dist-packages (from spacy<3.1,>=2.1.0->allennlp==2.5.0->-r transformations/sentence_reordering/requirements.txt (line 2)) (2.11.3)\n",
            "Requirement already satisfied: typing-extensions>=3.7.4 in /usr/local/lib/python3.7/dist-packages (from spacy<3.1,>=2.1.0->allennlp==2.5.0->-r transformations/sentence_reordering/requirements.txt (line 2)) (3.7.4.3)\n",
            "Requirement already satisfied: catalogue<2.1.0,>=2.0.1 in /usr/local/lib/python3.7/dist-packages (from spacy<3.1,>=2.1.0->allennlp==2.5.0->-r transformations/sentence_reordering/requirements.txt (line 2)) (2.0.6)\n",
            "Requirement already satisfied: preshed<3.1.0,>=3.0.2 in /usr/local/lib/python3.7/dist-packages (from spacy<3.1,>=2.1.0->allennlp==2.5.0->-r transformations/sentence_reordering/requirements.txt (line 2)) (3.0.5)\n",
            "Requirement already satisfied: pathy in /usr/local/lib/python3.7/dist-packages (from spacy<3.1,>=2.1.0->allennlp==2.5.0->-r transformations/sentence_reordering/requirements.txt (line 2)) (0.6.0)\n",
            "Requirement already satisfied: srsly<3.0.0,>=2.4.0 in /usr/local/lib/python3.7/dist-packages (from spacy<3.1,>=2.1.0->allennlp==2.5.0->-r transformations/sentence_reordering/requirements.txt (line 2)) (2.4.1)\n",
            "Requirement already satisfied: thinc<8.1.0,>=8.0.0 in /usr/local/lib/python3.7/dist-packages (from spacy<3.1,>=2.1.0->allennlp==2.5.0->-r transformations/sentence_reordering/requirements.txt (line 2)) (8.0.11)\n",
            "Requirement already satisfied: murmurhash<1.1.0,>=0.28.0 in /usr/local/lib/python3.7/dist-packages (from spacy<3.1,>=2.1.0->allennlp==2.5.0->-r transformations/sentence_reordering/requirements.txt (line 2)) (1.0.5)\n",
            "Requirement already satisfied: blis<0.8.0,>=0.4.0 in /usr/local/lib/python3.7/dist-packages (from spacy<3.1,>=2.1.0->allennlp==2.5.0->-r transformations/sentence_reordering/requirements.txt (line 2)) (0.4.1)\n",
            "Requirement already satisfied: spacy-legacy<3.1.0,>=3.0.0 in /usr/local/lib/python3.7/dist-packages (from spacy<3.1,>=2.1.0->allennlp==2.5.0->-r transformations/sentence_reordering/requirements.txt (line 2)) (3.0.8)\n",
            "Requirement already satisfied: cymem<2.1.0,>=2.0.2 in /usr/local/lib/python3.7/dist-packages (from spacy<3.1,>=2.1.0->allennlp==2.5.0->-r transformations/sentence_reordering/requirements.txt (line 2)) (2.0.5)\n",
            "Requirement already satisfied: wasabi<1.1.0,>=0.8.1 in /usr/local/lib/python3.7/dist-packages (from spacy<3.1,>=2.1.0->allennlp==2.5.0->-r transformations/sentence_reordering/requirements.txt (line 2)) (0.8.2)\n",
            "Requirement already satisfied: pydantic<1.8.0,>=1.7.1 in /usr/local/lib/python3.7/dist-packages (from spacy<3.1,>=2.1.0->allennlp==2.5.0->-r transformations/sentence_reordering/requirements.txt (line 2)) (1.7.4)\n",
            "Requirement already satisfied: typer<0.4.0,>=0.3.0 in /usr/local/lib/python3.7/dist-packages (from spacy<3.1,>=2.1.0->allennlp==2.5.0->-r transformations/sentence_reordering/requirements.txt (line 2)) (0.3.2)\n",
            "Requirement already satisfied: zipp>=0.5 in /usr/local/lib/python3.7/dist-packages (from catalogue<2.1.0,>=2.0.1->spacy<3.1,>=2.1.0->allennlp==2.5.0->-r transformations/sentence_reordering/requirements.txt (line 2)) (3.6.0)\n",
            "Requirement already satisfied: pillow>=4.1.1 in /usr/local/lib/python3.7/dist-packages (from torchvision<0.10.0,>=0.8.1->allennlp==2.5.0->-r transformations/sentence_reordering/requirements.txt (line 2)) (7.0.0)\n",
            "Requirement already satisfied: tokenizers<0.11,>=0.10.1 in /usr/local/lib/python3.7/dist-packages (from transformers<4.7,>=4.1->allennlp==2.5.0->-r transformations/sentence_reordering/requirements.txt (line 2)) (0.10.3)\n",
            "Requirement already satisfied: sacremoses in /usr/local/lib/python3.7/dist-packages (from transformers<4.7,>=4.1->allennlp==2.5.0->-r transformations/sentence_reordering/requirements.txt (line 2)) (0.0.46)\n",
            "Requirement already satisfied: regex!=2019.12.17 in /usr/local/lib/python3.7/dist-packages (from transformers<4.7,>=4.1->allennlp==2.5.0->-r transformations/sentence_reordering/requirements.txt (line 2)) (2021.10.21)\n",
            "Requirement already satisfied: click<7.2.0,>=7.1.1 in /usr/local/lib/python3.7/dist-packages (from typer<0.4.0,>=0.3.0->spacy<3.1,>=2.1.0->allennlp==2.5.0->-r transformations/sentence_reordering/requirements.txt (line 2)) (7.1.2)\n",
            "Requirement already satisfied: shortuuid>=0.5.0 in /usr/local/lib/python3.7/dist-packages (from wandb<0.11.0,>=0.10.0->allennlp==2.5.0->-r transformations/sentence_reordering/requirements.txt (line 2)) (1.0.1)\n",
            "Requirement already satisfied: docker-pycreds>=0.4.0 in /usr/local/lib/python3.7/dist-packages (from wandb<0.11.0,>=0.10.0->allennlp==2.5.0->-r transformations/sentence_reordering/requirements.txt (line 2)) (0.4.0)\n",
            "Requirement already satisfied: PyYAML in /usr/local/lib/python3.7/dist-packages (from wandb<0.11.0,>=0.10.0->allennlp==2.5.0->-r transformations/sentence_reordering/requirements.txt (line 2)) (6.0)\n",
            "Requirement already satisfied: psutil>=5.0.0 in /usr/local/lib/python3.7/dist-packages (from wandb<0.11.0,>=0.10.0->allennlp==2.5.0->-r transformations/sentence_reordering/requirements.txt (line 2)) (5.4.8)\n",
            "Requirement already satisfied: sentry-sdk>=0.4.0 in /usr/local/lib/python3.7/dist-packages (from wandb<0.11.0,>=0.10.0->allennlp==2.5.0->-r transformations/sentence_reordering/requirements.txt (line 2)) (1.4.3)\n",
            "Requirement already satisfied: pathtools in /usr/local/lib/python3.7/dist-packages (from wandb<0.11.0,>=0.10.0->allennlp==2.5.0->-r transformations/sentence_reordering/requirements.txt (line 2)) (0.1.2)\n",
            "Requirement already satisfied: promise<3,>=2.0 in /usr/local/lib/python3.7/dist-packages (from wandb<0.11.0,>=0.10.0->allennlp==2.5.0->-r transformations/sentence_reordering/requirements.txt (line 2)) (2.3)\n",
            "Requirement already satisfied: configparser>=3.8.1 in /usr/local/lib/python3.7/dist-packages (from wandb<0.11.0,>=0.10.0->allennlp==2.5.0->-r transformations/sentence_reordering/requirements.txt (line 2)) (5.0.2)\n",
            "Requirement already satisfied: GitPython>=1.0.0 in /usr/local/lib/python3.7/dist-packages (from wandb<0.11.0,>=0.10.0->allennlp==2.5.0->-r transformations/sentence_reordering/requirements.txt (line 2)) (3.1.24)\n",
            "Requirement already satisfied: subprocess32>=3.5.3 in /usr/local/lib/python3.7/dist-packages (from wandb<0.11.0,>=0.10.0->allennlp==2.5.0->-r transformations/sentence_reordering/requirements.txt (line 2)) (3.5.4)\n",
            "Requirement already satisfied: gitdb<5,>=4.0.1 in /usr/local/lib/python3.7/dist-packages (from GitPython>=1.0.0->wandb<0.11.0,>=0.10.0->allennlp==2.5.0->-r transformations/sentence_reordering/requirements.txt (line 2)) (4.0.7)\n",
            "Requirement already satisfied: smmap<5,>=3.0.1 in /usr/local/lib/python3.7/dist-packages (from gitdb<5,>=4.0.1->GitPython>=1.0.0->wandb<0.11.0,>=0.10.0->allennlp==2.5.0->-r transformations/sentence_reordering/requirements.txt (line 2)) (4.0.0)\n",
            "Requirement already satisfied: Send2Trash in /usr/local/lib/python3.7/dist-packages (from notebook->jupyter>=1.0->checklist==0.0.11->allennlp==2.5.0->-r transformations/sentence_reordering/requirements.txt (line 2)) (1.8.0)\n",
            "Requirement already satisfied: terminado>=0.8.1 in /usr/local/lib/python3.7/dist-packages (from notebook->jupyter>=1.0->checklist==0.0.11->allennlp==2.5.0->-r transformations/sentence_reordering/requirements.txt (line 2)) (0.12.1)\n",
            "Requirement already satisfied: pyzmq>=13 in /usr/local/lib/python3.7/dist-packages (from jupyter-client->ipykernel>=4.5.1->ipywidgets>=7.5->checklist==0.0.11->allennlp==2.5.0->-r transformations/sentence_reordering/requirements.txt (line 2)) (22.3.0)\n",
            "Requirement already satisfied: ptyprocess in /usr/local/lib/python3.7/dist-packages (from terminado>=0.8.1->notebook->jupyter>=1.0->checklist==0.0.11->allennlp==2.5.0->-r transformations/sentence_reordering/requirements.txt (line 2)) (0.7.0)\n",
            "Requirement already satisfied: cached-property in /usr/local/lib/python3.7/dist-packages (from h5py->allennlp==2.5.0->-r transformations/sentence_reordering/requirements.txt (line 2)) (1.5.2)\n",
            "Requirement already satisfied: MarkupSafe>=0.23 in /usr/local/lib/python3.7/dist-packages (from jinja2->spacy<3.1,>=2.1.0->allennlp==2.5.0->-r transformations/sentence_reordering/requirements.txt (line 2)) (2.0.1)\n",
            "Requirement already satisfied: entrypoints>=0.2.2 in /usr/local/lib/python3.7/dist-packages (from nbconvert->jupyter>=1.0->checklist==0.0.11->allennlp==2.5.0->-r transformations/sentence_reordering/requirements.txt (line 2)) (0.3)\n",
            "Requirement already satisfied: pandocfilters>=1.4.1 in /usr/local/lib/python3.7/dist-packages (from nbconvert->jupyter>=1.0->checklist==0.0.11->allennlp==2.5.0->-r transformations/sentence_reordering/requirements.txt (line 2)) (1.5.0)\n",
            "Requirement already satisfied: testpath in /usr/local/lib/python3.7/dist-packages (from nbconvert->jupyter>=1.0->checklist==0.0.11->allennlp==2.5.0->-r transformations/sentence_reordering/requirements.txt (line 2)) (0.5.0)\n",
            "Requirement already satisfied: defusedxml in /usr/local/lib/python3.7/dist-packages (from nbconvert->jupyter>=1.0->checklist==0.0.11->allennlp==2.5.0->-r transformations/sentence_reordering/requirements.txt (line 2)) (0.7.1)\n",
            "Requirement already satisfied: bleach in /usr/local/lib/python3.7/dist-packages (from nbconvert->jupyter>=1.0->checklist==0.0.11->allennlp==2.5.0->-r transformations/sentence_reordering/requirements.txt (line 2)) (4.1.0)\n",
            "Requirement already satisfied: mistune<2,>=0.8.1 in /usr/local/lib/python3.7/dist-packages (from nbconvert->jupyter>=1.0->checklist==0.0.11->allennlp==2.5.0->-r transformations/sentence_reordering/requirements.txt (line 2)) (0.8.4)\n",
            "Requirement already satisfied: webencodings in /usr/local/lib/python3.7/dist-packages (from bleach->nbconvert->jupyter>=1.0->checklist==0.0.11->allennlp==2.5.0->-r transformations/sentence_reordering/requirements.txt (line 2)) (0.5.1)\n",
            "Requirement already satisfied: joblib in /usr/local/lib/python3.7/dist-packages (from nltk->allennlp==2.5.0->-r transformations/sentence_reordering/requirements.txt (line 2)) (1.0.1)\n",
            "Requirement already satisfied: smart-open<6.0.0,>=5.0.0 in /usr/local/lib/python3.7/dist-packages (from pathy->spacy<3.1,>=2.1.0->allennlp==2.5.0->-r transformations/sentence_reordering/requirements.txt (line 2)) (5.2.1)\n",
            "Requirement already satisfied: python-docx in /usr/local/lib/python3.7/dist-packages (from patternfork-nosql->checklist==0.0.11->allennlp==2.5.0->-r transformations/sentence_reordering/requirements.txt (line 2)) (0.8.11)\n",
            "Requirement already satisfied: cherrypy in /usr/local/lib/python3.7/dist-packages (from patternfork-nosql->checklist==0.0.11->allennlp==2.5.0->-r transformations/sentence_reordering/requirements.txt (line 2)) (18.6.1)\n",
            "Requirement already satisfied: beautifulsoup4 in /usr/local/lib/python3.7/dist-packages (from patternfork-nosql->checklist==0.0.11->allennlp==2.5.0->-r transformations/sentence_reordering/requirements.txt (line 2)) (4.9.3)\n",
            "Requirement already satisfied: backports.csv in /usr/local/lib/python3.7/dist-packages (from patternfork-nosql->checklist==0.0.11->allennlp==2.5.0->-r transformations/sentence_reordering/requirements.txt (line 2)) (1.0.7)\n",
            "Requirement already satisfied: future in /usr/local/lib/python3.7/dist-packages (from patternfork-nosql->checklist==0.0.11->allennlp==2.5.0->-r transformations/sentence_reordering/requirements.txt (line 2)) (0.16.0)\n",
            "Requirement already satisfied: pdfminer.six in /usr/local/lib/python3.7/dist-packages (from patternfork-nosql->checklist==0.0.11->allennlp==2.5.0->-r transformations/sentence_reordering/requirements.txt (line 2)) (20211012)\n",
            "Requirement already satisfied: lxml in /usr/local/lib/python3.7/dist-packages (from patternfork-nosql->checklist==0.0.11->allennlp==2.5.0->-r transformations/sentence_reordering/requirements.txt (line 2)) (4.2.6)\n",
            "Requirement already satisfied: feedparser in /usr/local/lib/python3.7/dist-packages (from patternfork-nosql->checklist==0.0.11->allennlp==2.5.0->-r transformations/sentence_reordering/requirements.txt (line 2)) (6.0.8)\n",
            "Requirement already satisfied: soupsieve>1.2 in /usr/local/lib/python3.7/dist-packages (from beautifulsoup4->patternfork-nosql->checklist==0.0.11->allennlp==2.5.0->-r transformations/sentence_reordering/requirements.txt (line 2)) (2.2.1)\n",
            "Requirement already satisfied: zc.lockfile in /usr/local/lib/python3.7/dist-packages (from cherrypy->patternfork-nosql->checklist==0.0.11->allennlp==2.5.0->-r transformations/sentence_reordering/requirements.txt (line 2)) (2.0)\n",
            "Requirement already satisfied: jaraco.collections in /usr/local/lib/python3.7/dist-packages (from cherrypy->patternfork-nosql->checklist==0.0.11->allennlp==2.5.0->-r transformations/sentence_reordering/requirements.txt (line 2)) (3.4.0)\n",
            "Requirement already satisfied: portend>=2.1.1 in /usr/local/lib/python3.7/dist-packages (from cherrypy->patternfork-nosql->checklist==0.0.11->allennlp==2.5.0->-r transformations/sentence_reordering/requirements.txt (line 2)) (3.0.0)\n",
            "Requirement already satisfied: cheroot>=8.2.1 in /usr/local/lib/python3.7/dist-packages (from cherrypy->patternfork-nosql->checklist==0.0.11->allennlp==2.5.0->-r transformations/sentence_reordering/requirements.txt (line 2)) (8.5.2)\n",
            "Requirement already satisfied: jaraco.functools in /usr/local/lib/python3.7/dist-packages (from cheroot>=8.2.1->cherrypy->patternfork-nosql->checklist==0.0.11->allennlp==2.5.0->-r transformations/sentence_reordering/requirements.txt (line 2)) (3.3.0)\n",
            "Requirement already satisfied: tempora>=1.8 in /usr/local/lib/python3.7/dist-packages (from portend>=2.1.1->cherrypy->patternfork-nosql->checklist==0.0.11->allennlp==2.5.0->-r transformations/sentence_reordering/requirements.txt (line 2)) (4.1.2)\n",
            "Requirement already satisfied: sgmllib3k in /usr/local/lib/python3.7/dist-packages (from feedparser->patternfork-nosql->checklist==0.0.11->allennlp==2.5.0->-r transformations/sentence_reordering/requirements.txt (line 2)) (1.0.0)\n",
            "Requirement already satisfied: jaraco.classes in /usr/local/lib/python3.7/dist-packages (from jaraco.collections->cherrypy->patternfork-nosql->checklist==0.0.11->allennlp==2.5.0->-r transformations/sentence_reordering/requirements.txt (line 2)) (3.2.1)\n",
            "Requirement already satisfied: jaraco.text in /usr/local/lib/python3.7/dist-packages (from jaraco.collections->cherrypy->patternfork-nosql->checklist==0.0.11->allennlp==2.5.0->-r transformations/sentence_reordering/requirements.txt (line 2)) (3.5.1)\n",
            "Requirement already satisfied: cryptography in /usr/local/lib/python3.7/dist-packages (from pdfminer.six->patternfork-nosql->checklist==0.0.11->allennlp==2.5.0->-r transformations/sentence_reordering/requirements.txt (line 2)) (35.0.0)\n",
            "Requirement already satisfied: cffi>=1.12 in /usr/local/lib/python3.7/dist-packages (from cryptography->pdfminer.six->patternfork-nosql->checklist==0.0.11->allennlp==2.5.0->-r transformations/sentence_reordering/requirements.txt (line 2)) (1.14.6)\n",
            "Requirement already satisfied: pycparser in /usr/local/lib/python3.7/dist-packages (from cffi>=1.12->cryptography->pdfminer.six->patternfork-nosql->checklist==0.0.11->allennlp==2.5.0->-r transformations/sentence_reordering/requirements.txt (line 2)) (2.20)\n",
            "Requirement already satisfied: iniconfig in /usr/local/lib/python3.7/dist-packages (from pytest->allennlp==2.5.0->-r transformations/sentence_reordering/requirements.txt (line 2)) (1.1.1)\n",
            "Requirement already satisfied: pluggy<1.0.0a1,>=0.12 in /usr/local/lib/python3.7/dist-packages (from pytest->allennlp==2.5.0->-r transformations/sentence_reordering/requirements.txt (line 2)) (0.13.1)\n",
            "Requirement already satisfied: py>=1.8.2 in /usr/local/lib/python3.7/dist-packages (from pytest->allennlp==2.5.0->-r transformations/sentence_reordering/requirements.txt (line 2)) (1.10.0)\n",
            "Requirement already satisfied: toml in /usr/local/lib/python3.7/dist-packages (from pytest->allennlp==2.5.0->-r transformations/sentence_reordering/requirements.txt (line 2)) (0.10.2)\n",
            "Requirement already satisfied: attrs>=19.2.0 in /usr/local/lib/python3.7/dist-packages (from pytest->allennlp==2.5.0->-r transformations/sentence_reordering/requirements.txt (line 2)) (21.2.0)\n",
            "Requirement already satisfied: qtpy in /usr/local/lib/python3.7/dist-packages (from qtconsole->jupyter>=1.0->checklist==0.0.11->allennlp==2.5.0->-r transformations/sentence_reordering/requirements.txt (line 2)) (1.11.2)\n",
            "Requirement already satisfied: forex-python==1.6 in /usr/local/lib/python3.7/dist-packages (from -r transformations/replace_financial_amounts/requirements.txt (line 1)) (1.6)\n",
            "Requirement already satisfied: ftfy==6.0.3 in /usr/local/lib/python3.7/dist-packages (from -r transformations/replace_financial_amounts/requirements.txt (line 2)) (6.0.3)\n",
            "Requirement already satisfied: simplejson in /usr/local/lib/python3.7/dist-packages (from forex-python==1.6->-r transformations/replace_financial_amounts/requirements.txt (line 1)) (3.17.5)\n",
            "Requirement already satisfied: requests in /usr/local/lib/python3.7/dist-packages (from forex-python==1.6->-r transformations/replace_financial_amounts/requirements.txt (line 1)) (2.25.1)\n",
            "Requirement already satisfied: wcwidth in /usr/local/lib/python3.7/dist-packages (from ftfy==6.0.3->-r transformations/replace_financial_amounts/requirements.txt (line 2)) (0.2.5)\n",
            "Requirement already satisfied: idna<3,>=2.5 in /usr/local/lib/python3.7/dist-packages (from requests->forex-python==1.6->-r transformations/replace_financial_amounts/requirements.txt (line 1)) (2.10)\n",
            "Requirement already satisfied: chardet<5,>=3.0.2 in /usr/local/lib/python3.7/dist-packages (from requests->forex-python==1.6->-r transformations/replace_financial_amounts/requirements.txt (line 1)) (3.0.4)\n",
            "Requirement already satisfied: urllib3<1.27,>=1.21.1 in /usr/local/lib/python3.7/dist-packages (from requests->forex-python==1.6->-r transformations/replace_financial_amounts/requirements.txt (line 1)) (1.25.11)\n",
            "Requirement already satisfied: certifi>=2017.4.17 in /usr/local/lib/python3.7/dist-packages (from requests->forex-python==1.6->-r transformations/replace_financial_amounts/requirements.txt (line 1)) (2021.5.30)\n",
            "Requirement already satisfied: jieba==0.42.1 in /usr/local/lib/python3.7/dist-packages (from -r transformations/chinese_person_named_entities_gender/requirements.txt (line 1)) (0.42.1)\n",
            "Requirement already satisfied: benepar==0.2.0 in /usr/local/lib/python3.7/dist-packages (from -r transformations/syntactically_diverse_paraphrase/requirements.txt (line 1)) (0.2.0)\n",
            "Requirement already satisfied: torchtext==0.9.1 in /usr/local/lib/python3.7/dist-packages (from -r transformations/syntactically_diverse_paraphrase/requirements.txt (line 2)) (0.9.1)\n",
            "Requirement already satisfied: spacy>=2.0.9 in /usr/local/lib/python3.7/dist-packages (from benepar==0.2.0->-r transformations/syntactically_diverse_paraphrase/requirements.txt (line 1)) (3.0.0)\n",
            "Requirement already satisfied: torch-struct>=0.5 in /usr/local/lib/python3.7/dist-packages (from benepar==0.2.0->-r transformations/syntactically_diverse_paraphrase/requirements.txt (line 1)) (0.5)\n",
            "Requirement already satisfied: nltk>=3.2 in /usr/local/lib/python3.7/dist-packages (from benepar==0.2.0->-r transformations/syntactically_diverse_paraphrase/requirements.txt (line 1)) (3.6.2)\n",
            "Requirement already satisfied: protobuf in /usr/local/lib/python3.7/dist-packages (from benepar==0.2.0->-r transformations/syntactically_diverse_paraphrase/requirements.txt (line 1)) (3.17.3)\n",
            "Requirement already satisfied: torch>=1.6.0 in /usr/local/lib/python3.7/dist-packages (from benepar==0.2.0->-r transformations/syntactically_diverse_paraphrase/requirements.txt (line 1)) (1.8.1)\n",
            "Requirement already satisfied: transformers[tokenizers,torch]>=4.2.2 in /usr/local/lib/python3.7/dist-packages (from benepar==0.2.0->-r transformations/syntactically_diverse_paraphrase/requirements.txt (line 1)) (4.6.1)\n",
            "Requirement already satisfied: tokenizers>=0.9.4 in /usr/local/lib/python3.7/dist-packages (from benepar==0.2.0->-r transformations/syntactically_diverse_paraphrase/requirements.txt (line 1)) (0.10.3)\n",
            "Requirement already satisfied: sentencepiece>=0.1.91 in /usr/local/lib/python3.7/dist-packages (from benepar==0.2.0->-r transformations/syntactically_diverse_paraphrase/requirements.txt (line 1)) (0.1.95)\n",
            "Requirement already satisfied: requests in /usr/local/lib/python3.7/dist-packages (from torchtext==0.9.1->-r transformations/syntactically_diverse_paraphrase/requirements.txt (line 2)) (2.25.1)\n",
            "Requirement already satisfied: tqdm in /usr/local/lib/python3.7/dist-packages (from torchtext==0.9.1->-r transformations/syntactically_diverse_paraphrase/requirements.txt (line 2)) (4.49.0)\n",
            "Requirement already satisfied: numpy in /usr/local/lib/python3.7/dist-packages (from torchtext==0.9.1->-r transformations/syntactically_diverse_paraphrase/requirements.txt (line 2)) (1.19.5)\n",
            "Requirement already satisfied: typing-extensions in /usr/local/lib/python3.7/dist-packages (from torch>=1.6.0->benepar==0.2.0->-r transformations/syntactically_diverse_paraphrase/requirements.txt (line 1)) (3.7.4.3)\n",
            "Requirement already satisfied: joblib in /usr/local/lib/python3.7/dist-packages (from nltk>=3.2->benepar==0.2.0->-r transformations/syntactically_diverse_paraphrase/requirements.txt (line 1)) (1.0.1)\n",
            "Requirement already satisfied: click in /usr/local/lib/python3.7/dist-packages (from nltk>=3.2->benepar==0.2.0->-r transformations/syntactically_diverse_paraphrase/requirements.txt (line 1)) (7.1.2)\n",
            "Requirement already satisfied: regex in /usr/local/lib/python3.7/dist-packages (from nltk>=3.2->benepar==0.2.0->-r transformations/syntactically_diverse_paraphrase/requirements.txt (line 1)) (2021.10.21)\n",
            "Requirement already satisfied: setuptools in /usr/local/lib/python3.7/dist-packages (from spacy>=2.0.9->benepar==0.2.0->-r transformations/syntactically_diverse_paraphrase/requirements.txt (line 1)) (57.4.0)\n",
            "Requirement already satisfied: wasabi<1.1.0,>=0.8.1 in /usr/local/lib/python3.7/dist-packages (from spacy>=2.0.9->benepar==0.2.0->-r transformations/syntactically_diverse_paraphrase/requirements.txt (line 1)) (0.8.2)\n",
            "Requirement already satisfied: typer<0.4.0,>=0.3.0 in /usr/local/lib/python3.7/dist-packages (from spacy>=2.0.9->benepar==0.2.0->-r transformations/syntactically_diverse_paraphrase/requirements.txt (line 1)) (0.3.2)\n",
            "Requirement already satisfied: spacy-legacy<3.1.0,>=3.0.0 in /usr/local/lib/python3.7/dist-packages (from spacy>=2.0.9->benepar==0.2.0->-r transformations/syntactically_diverse_paraphrase/requirements.txt (line 1)) (3.0.8)\n",
            "Requirement already satisfied: preshed<3.1.0,>=3.0.2 in /usr/local/lib/python3.7/dist-packages (from spacy>=2.0.9->benepar==0.2.0->-r transformations/syntactically_diverse_paraphrase/requirements.txt (line 1)) (3.0.5)\n",
            "Requirement already satisfied: pydantic<1.8.0,>=1.7.1 in /usr/local/lib/python3.7/dist-packages (from spacy>=2.0.9->benepar==0.2.0->-r transformations/syntactically_diverse_paraphrase/requirements.txt (line 1)) (1.7.4)\n",
            "Requirement already satisfied: catalogue<2.1.0,>=2.0.1 in /usr/local/lib/python3.7/dist-packages (from spacy>=2.0.9->benepar==0.2.0->-r transformations/syntactically_diverse_paraphrase/requirements.txt (line 1)) (2.0.6)\n",
            "Requirement already satisfied: importlib-metadata>=0.20 in /usr/local/lib/python3.7/dist-packages (from spacy>=2.0.9->benepar==0.2.0->-r transformations/syntactically_diverse_paraphrase/requirements.txt (line 1)) (4.8.1)\n",
            "Requirement already satisfied: packaging>=20.0 in /usr/local/lib/python3.7/dist-packages (from spacy>=2.0.9->benepar==0.2.0->-r transformations/syntactically_diverse_paraphrase/requirements.txt (line 1)) (21.0)\n",
            "Requirement already satisfied: cymem<2.1.0,>=2.0.2 in /usr/local/lib/python3.7/dist-packages (from spacy>=2.0.9->benepar==0.2.0->-r transformations/syntactically_diverse_paraphrase/requirements.txt (line 1)) (2.0.5)\n",
            "Requirement already satisfied: srsly<3.0.0,>=2.4.0 in /usr/local/lib/python3.7/dist-packages (from spacy>=2.0.9->benepar==0.2.0->-r transformations/syntactically_diverse_paraphrase/requirements.txt (line 1)) (2.4.1)\n",
            "Requirement already satisfied: thinc<8.1.0,>=8.0.0 in /usr/local/lib/python3.7/dist-packages (from spacy>=2.0.9->benepar==0.2.0->-r transformations/syntactically_diverse_paraphrase/requirements.txt (line 1)) (8.0.11)\n",
            "Requirement already satisfied: blis<0.8.0,>=0.4.0 in /usr/local/lib/python3.7/dist-packages (from spacy>=2.0.9->benepar==0.2.0->-r transformations/syntactically_diverse_paraphrase/requirements.txt (line 1)) (0.4.1)\n",
            "Requirement already satisfied: jinja2 in /usr/local/lib/python3.7/dist-packages (from spacy>=2.0.9->benepar==0.2.0->-r transformations/syntactically_diverse_paraphrase/requirements.txt (line 1)) (2.11.3)\n",
            "Requirement already satisfied: pathy in /usr/local/lib/python3.7/dist-packages (from spacy>=2.0.9->benepar==0.2.0->-r transformations/syntactically_diverse_paraphrase/requirements.txt (line 1)) (0.6.0)\n",
            "Requirement already satisfied: murmurhash<1.1.0,>=0.28.0 in /usr/local/lib/python3.7/dist-packages (from spacy>=2.0.9->benepar==0.2.0->-r transformations/syntactically_diverse_paraphrase/requirements.txt (line 1)) (1.0.5)\n",
            "Requirement already satisfied: zipp>=0.5 in /usr/local/lib/python3.7/dist-packages (from catalogue<2.1.0,>=2.0.1->spacy>=2.0.9->benepar==0.2.0->-r transformations/syntactically_diverse_paraphrase/requirements.txt (line 1)) (3.6.0)\n",
            "Requirement already satisfied: pyparsing>=2.0.2 in /usr/local/lib/python3.7/dist-packages (from packaging>=20.0->spacy>=2.0.9->benepar==0.2.0->-r transformations/syntactically_diverse_paraphrase/requirements.txt (line 1)) (2.4.7)\n",
            "Requirement already satisfied: idna<3,>=2.5 in /usr/local/lib/python3.7/dist-packages (from requests->torchtext==0.9.1->-r transformations/syntactically_diverse_paraphrase/requirements.txt (line 2)) (2.10)\n",
            "Requirement already satisfied: urllib3<1.27,>=1.21.1 in /usr/local/lib/python3.7/dist-packages (from requests->torchtext==0.9.1->-r transformations/syntactically_diverse_paraphrase/requirements.txt (line 2)) (1.25.11)\n",
            "Requirement already satisfied: chardet<5,>=3.0.2 in /usr/local/lib/python3.7/dist-packages (from requests->torchtext==0.9.1->-r transformations/syntactically_diverse_paraphrase/requirements.txt (line 2)) (3.0.4)\n",
            "Requirement already satisfied: certifi>=2017.4.17 in /usr/local/lib/python3.7/dist-packages (from requests->torchtext==0.9.1->-r transformations/syntactically_diverse_paraphrase/requirements.txt (line 2)) (2021.5.30)\n",
            "Requirement already satisfied: sacremoses in /usr/local/lib/python3.7/dist-packages (from transformers[tokenizers,torch]>=4.2.2->benepar==0.2.0->-r transformations/syntactically_diverse_paraphrase/requirements.txt (line 1)) (0.0.46)\n",
            "Requirement already satisfied: huggingface-hub==0.0.8 in /usr/local/lib/python3.7/dist-packages (from transformers[tokenizers,torch]>=4.2.2->benepar==0.2.0->-r transformations/syntactically_diverse_paraphrase/requirements.txt (line 1)) (0.0.8)\n",
            "Requirement already satisfied: filelock in /usr/local/lib/python3.7/dist-packages (from transformers[tokenizers,torch]>=4.2.2->benepar==0.2.0->-r transformations/syntactically_diverse_paraphrase/requirements.txt (line 1)) (3.0.12)\n",
            "Requirement already satisfied: MarkupSafe>=0.23 in /usr/local/lib/python3.7/dist-packages (from jinja2->spacy>=2.0.9->benepar==0.2.0->-r transformations/syntactically_diverse_paraphrase/requirements.txt (line 1)) (2.0.1)\n",
            "Requirement already satisfied: smart-open<6.0.0,>=5.0.0 in /usr/local/lib/python3.7/dist-packages (from pathy->spacy>=2.0.9->benepar==0.2.0->-r transformations/syntactically_diverse_paraphrase/requirements.txt (line 1)) (5.2.1)\n",
            "Requirement already satisfied: six>=1.9 in /usr/local/lib/python3.7/dist-packages (from protobuf->benepar==0.2.0->-r transformations/syntactically_diverse_paraphrase/requirements.txt (line 1)) (1.15.0)\n",
            "Requirement already satisfied: lemminflect==0.2.2 in /usr/local/lib/python3.7/dist-packages (from -r transformations/english_inflectional_variation/requirements.txt (line 2)) (0.2.2)\n",
            "Requirement already satisfied: nltk==3.6.2 in /usr/local/lib/python3.7/dist-packages (from -r transformations/english_inflectional_variation/requirements.txt (line 3)) (3.6.2)\n",
            "Requirement already satisfied: numpy in /usr/local/lib/python3.7/dist-packages (from lemminflect==0.2.2->-r transformations/english_inflectional_variation/requirements.txt (line 2)) (1.19.5)\n",
            "Requirement already satisfied: joblib in /usr/local/lib/python3.7/dist-packages (from nltk==3.6.2->-r transformations/english_inflectional_variation/requirements.txt (line 3)) (1.0.1)\n",
            "Requirement already satisfied: tqdm in /usr/local/lib/python3.7/dist-packages (from nltk==3.6.2->-r transformations/english_inflectional_variation/requirements.txt (line 3)) (4.49.0)\n",
            "Requirement already satisfied: regex in /usr/local/lib/python3.7/dist-packages (from nltk==3.6.2->-r transformations/english_inflectional_variation/requirements.txt (line 3)) (2021.10.21)\n",
            "Requirement already satisfied: click in /usr/local/lib/python3.7/dist-packages (from nltk==3.6.2->-r transformations/english_inflectional_variation/requirements.txt (line 3)) (7.1.2)\n",
            "Requirement already satisfied: ftfy==6.0.3 in /usr/local/lib/python3.7/dist-packages (from -r transformations/replace_abbreviation_and_acronyms/requirements.txt (line 1)) (6.0.3)\n",
            "Requirement already satisfied: wcwidth in /usr/local/lib/python3.7/dist-packages (from ftfy==6.0.3->-r transformations/replace_abbreviation_and_acronyms/requirements.txt (line 1)) (0.2.5)\n",
            "Requirement already satisfied: torch in /usr/local/lib/python3.7/dist-packages (from -r transformations/transformer_fill/requirements.txt (line 1)) (1.8.1)\n",
            "Requirement already satisfied: transformers in /usr/local/lib/python3.7/dist-packages (from -r transformations/transformer_fill/requirements.txt (line 2)) (4.6.1)\n",
            "Requirement already satisfied: spacy in /usr/local/lib/python3.7/dist-packages (from -r transformations/transformer_fill/requirements.txt (line 3)) (3.0.0)\n",
            "Requirement already satisfied: numpy in /usr/local/lib/python3.7/dist-packages (from torch->-r transformations/transformer_fill/requirements.txt (line 1)) (1.19.5)\n",
            "Requirement already satisfied: typing-extensions in /usr/local/lib/python3.7/dist-packages (from torch->-r transformations/transformer_fill/requirements.txt (line 1)) (3.7.4.3)\n",
            "Requirement already satisfied: regex!=2019.12.17 in /usr/local/lib/python3.7/dist-packages (from transformers->-r transformations/transformer_fill/requirements.txt (line 2)) (2021.10.21)\n",
            "Requirement already satisfied: requests in /usr/local/lib/python3.7/dist-packages (from transformers->-r transformations/transformer_fill/requirements.txt (line 2)) (2.25.1)\n",
            "Requirement already satisfied: huggingface-hub==0.0.8 in /usr/local/lib/python3.7/dist-packages (from transformers->-r transformations/transformer_fill/requirements.txt (line 2)) (0.0.8)\n",
            "Requirement already satisfied: importlib-metadata in /usr/local/lib/python3.7/dist-packages (from transformers->-r transformations/transformer_fill/requirements.txt (line 2)) (4.8.1)\n",
            "Requirement already satisfied: tokenizers<0.11,>=0.10.1 in /usr/local/lib/python3.7/dist-packages (from transformers->-r transformations/transformer_fill/requirements.txt (line 2)) (0.10.3)\n",
            "Requirement already satisfied: tqdm>=4.27 in /usr/local/lib/python3.7/dist-packages (from transformers->-r transformations/transformer_fill/requirements.txt (line 2)) (4.49.0)\n",
            "Requirement already satisfied: sacremoses in /usr/local/lib/python3.7/dist-packages (from transformers->-r transformations/transformer_fill/requirements.txt (line 2)) (0.0.46)\n",
            "Requirement already satisfied: packaging in /usr/local/lib/python3.7/dist-packages (from transformers->-r transformations/transformer_fill/requirements.txt (line 2)) (21.0)\n",
            "Requirement already satisfied: filelock in /usr/local/lib/python3.7/dist-packages (from transformers->-r transformations/transformer_fill/requirements.txt (line 2)) (3.0.12)\n",
            "Requirement already satisfied: typer<0.4.0,>=0.3.0 in /usr/local/lib/python3.7/dist-packages (from spacy->-r transformations/transformer_fill/requirements.txt (line 3)) (0.3.2)\n",
            "Requirement already satisfied: thinc<8.1.0,>=8.0.0 in /usr/local/lib/python3.7/dist-packages (from spacy->-r transformations/transformer_fill/requirements.txt (line 3)) (8.0.11)\n",
            "Requirement already satisfied: murmurhash<1.1.0,>=0.28.0 in /usr/local/lib/python3.7/dist-packages (from spacy->-r transformations/transformer_fill/requirements.txt (line 3)) (1.0.5)\n",
            "Requirement already satisfied: spacy-legacy<3.1.0,>=3.0.0 in /usr/local/lib/python3.7/dist-packages (from spacy->-r transformations/transformer_fill/requirements.txt (line 3)) (3.0.8)\n",
            "Requirement already satisfied: catalogue<2.1.0,>=2.0.1 in /usr/local/lib/python3.7/dist-packages (from spacy->-r transformations/transformer_fill/requirements.txt (line 3)) (2.0.6)\n",
            "Requirement already satisfied: srsly<3.0.0,>=2.4.0 in /usr/local/lib/python3.7/dist-packages (from spacy->-r transformations/transformer_fill/requirements.txt (line 3)) (2.4.1)\n",
            "Requirement already satisfied: cymem<2.1.0,>=2.0.2 in /usr/local/lib/python3.7/dist-packages (from spacy->-r transformations/transformer_fill/requirements.txt (line 3)) (2.0.5)\n",
            "Requirement already satisfied: setuptools in /usr/local/lib/python3.7/dist-packages (from spacy->-r transformations/transformer_fill/requirements.txt (line 3)) (57.4.0)\n",
            "Requirement already satisfied: pydantic<1.8.0,>=1.7.1 in /usr/local/lib/python3.7/dist-packages (from spacy->-r transformations/transformer_fill/requirements.txt (line 3)) (1.7.4)\n",
            "Requirement already satisfied: jinja2 in /usr/local/lib/python3.7/dist-packages (from spacy->-r transformations/transformer_fill/requirements.txt (line 3)) (2.11.3)\n",
            "Requirement already satisfied: preshed<3.1.0,>=3.0.2 in /usr/local/lib/python3.7/dist-packages (from spacy->-r transformations/transformer_fill/requirements.txt (line 3)) (3.0.5)\n",
            "Requirement already satisfied: wasabi<1.1.0,>=0.8.1 in /usr/local/lib/python3.7/dist-packages (from spacy->-r transformations/transformer_fill/requirements.txt (line 3)) (0.8.2)\n",
            "Requirement already satisfied: blis<0.8.0,>=0.4.0 in /usr/local/lib/python3.7/dist-packages (from spacy->-r transformations/transformer_fill/requirements.txt (line 3)) (0.4.1)\n",
            "Requirement already satisfied: pathy in /usr/local/lib/python3.7/dist-packages (from spacy->-r transformations/transformer_fill/requirements.txt (line 3)) (0.6.0)\n",
            "Requirement already satisfied: zipp>=0.5 in /usr/local/lib/python3.7/dist-packages (from catalogue<2.1.0,>=2.0.1->spacy->-r transformations/transformer_fill/requirements.txt (line 3)) (3.6.0)\n",
            "Requirement already satisfied: pyparsing>=2.0.2 in /usr/local/lib/python3.7/dist-packages (from packaging->transformers->-r transformations/transformer_fill/requirements.txt (line 2)) (2.4.7)\n",
            "Requirement already satisfied: urllib3<1.27,>=1.21.1 in /usr/local/lib/python3.7/dist-packages (from requests->transformers->-r transformations/transformer_fill/requirements.txt (line 2)) (1.25.11)\n",
            "Requirement already satisfied: idna<3,>=2.5 in /usr/local/lib/python3.7/dist-packages (from requests->transformers->-r transformations/transformer_fill/requirements.txt (line 2)) (2.10)\n",
            "Requirement already satisfied: certifi>=2017.4.17 in /usr/local/lib/python3.7/dist-packages (from requests->transformers->-r transformations/transformer_fill/requirements.txt (line 2)) (2021.5.30)\n",
            "Requirement already satisfied: chardet<5,>=3.0.2 in /usr/local/lib/python3.7/dist-packages (from requests->transformers->-r transformations/transformer_fill/requirements.txt (line 2)) (3.0.4)\n",
            "Requirement already satisfied: click<7.2.0,>=7.1.1 in /usr/local/lib/python3.7/dist-packages (from typer<0.4.0,>=0.3.0->spacy->-r transformations/transformer_fill/requirements.txt (line 3)) (7.1.2)\n",
            "Requirement already satisfied: MarkupSafe>=0.23 in /usr/local/lib/python3.7/dist-packages (from jinja2->spacy->-r transformations/transformer_fill/requirements.txt (line 3)) (2.0.1)\n",
            "Requirement already satisfied: smart-open<6.0.0,>=5.0.0 in /usr/local/lib/python3.7/dist-packages (from pathy->spacy->-r transformations/transformer_fill/requirements.txt (line 3)) (5.2.1)\n",
            "Requirement already satisfied: six in /usr/local/lib/python3.7/dist-packages (from sacremoses->transformers->-r transformations/transformer_fill/requirements.txt (line 2)) (1.15.0)\n",
            "Requirement already satisfied: joblib in /usr/local/lib/python3.7/dist-packages (from sacremoses->transformers->-r transformations/transformer_fill/requirements.txt (line 2)) (1.0.1)\n",
            "Requirement already satisfied: trdg==1.6.0 in /usr/local/lib/python3.7/dist-packages (from -r transformations/ocr_perturbation/requirements.txt (line 1)) (1.6.0)\n",
            "Requirement already satisfied: tesserocr>=2.5.2 in /usr/local/lib/python3.7/dist-packages (from -r transformations/ocr_perturbation/requirements.txt (line 2)) (2.5.2)\n",
            "Requirement already satisfied: diffimg==0.2.3 in /usr/local/lib/python3.7/dist-packages (from trdg==1.6.0->-r transformations/ocr_perturbation/requirements.txt (line 1)) (0.2.3)\n",
            "Requirement already satisfied: pillow==7.0.0 in /usr/local/lib/python3.7/dist-packages (from trdg==1.6.0->-r transformations/ocr_perturbation/requirements.txt (line 1)) (7.0.0)\n",
            "Requirement already satisfied: requests>=2.20.0 in /usr/local/lib/python3.7/dist-packages (from trdg==1.6.0->-r transformations/ocr_perturbation/requirements.txt (line 1)) (2.25.1)\n",
            "Requirement already satisfied: tqdm>=4.23.0 in /usr/local/lib/python3.7/dist-packages (from trdg==1.6.0->-r transformations/ocr_perturbation/requirements.txt (line 1)) (4.49.0)\n",
            "Requirement already satisfied: beautifulsoup4>=4.6.0 in /usr/local/lib/python3.7/dist-packages (from trdg==1.6.0->-r transformations/ocr_perturbation/requirements.txt (line 1)) (4.9.3)\n",
            "Requirement already satisfied: opencv-python>=4.2.0.32 in /usr/local/lib/python3.7/dist-packages (from trdg==1.6.0->-r transformations/ocr_perturbation/requirements.txt (line 1)) (4.5.3.56)\n",
            "Requirement already satisfied: numpy>=1.17.3 in /usr/local/lib/python3.7/dist-packages (from trdg==1.6.0->-r transformations/ocr_perturbation/requirements.txt (line 1)) (1.19.5)\n",
            "Requirement already satisfied: soupsieve>1.2 in /usr/local/lib/python3.7/dist-packages (from beautifulsoup4>=4.6.0->trdg==1.6.0->-r transformations/ocr_perturbation/requirements.txt (line 1)) (2.2.1)\n",
            "Requirement already satisfied: idna<3,>=2.5 in /usr/local/lib/python3.7/dist-packages (from requests>=2.20.0->trdg==1.6.0->-r transformations/ocr_perturbation/requirements.txt (line 1)) (2.10)\n",
            "Requirement already satisfied: chardet<5,>=3.0.2 in /usr/local/lib/python3.7/dist-packages (from requests>=2.20.0->trdg==1.6.0->-r transformations/ocr_perturbation/requirements.txt (line 1)) (3.0.4)\n",
            "Requirement already satisfied: certifi>=2017.4.17 in /usr/local/lib/python3.7/dist-packages (from requests>=2.20.0->trdg==1.6.0->-r transformations/ocr_perturbation/requirements.txt (line 1)) (2021.5.30)\n",
            "Requirement already satisfied: urllib3<1.27,>=1.21.1 in /usr/local/lib/python3.7/dist-packages (from requests>=2.20.0->trdg==1.6.0->-r transformations/ocr_perturbation/requirements.txt (line 1)) (1.25.11)\n",
            "Requirement already satisfied: requests~=2.25.1 in /usr/local/lib/python3.7/dist-packages (from -r transformations/americanize_britishize_english/requirements.txt (line 2)) (2.25.1)\n",
            "Requirement already satisfied: chardet<5,>=3.0.2 in /usr/local/lib/python3.7/dist-packages (from requests~=2.25.1->-r transformations/americanize_britishize_english/requirements.txt (line 2)) (3.0.4)\n",
            "Requirement already satisfied: urllib3<1.27,>=1.21.1 in /usr/local/lib/python3.7/dist-packages (from requests~=2.25.1->-r transformations/americanize_britishize_english/requirements.txt (line 2)) (1.25.11)\n",
            "Requirement already satisfied: certifi>=2017.4.17 in /usr/local/lib/python3.7/dist-packages (from requests~=2.25.1->-r transformations/americanize_britishize_english/requirements.txt (line 2)) (2021.5.30)\n",
            "Requirement already satisfied: idna<3,>=2.5 in /usr/local/lib/python3.7/dist-packages (from requests~=2.25.1->-r transformations/americanize_britishize_english/requirements.txt (line 2)) (2.10)\n",
            "Requirement already satisfied: torchtext==0.9.1 in /usr/local/lib/python3.7/dist-packages (from -r transformations/mr_value_replacement/requirements.txt (line 1)) (0.9.1)\n",
            "Requirement already satisfied: torch==1.8.1 in /usr/local/lib/python3.7/dist-packages (from torchtext==0.9.1->-r transformations/mr_value_replacement/requirements.txt (line 1)) (1.8.1)\n",
            "Requirement already satisfied: numpy in /usr/local/lib/python3.7/dist-packages (from torchtext==0.9.1->-r transformations/mr_value_replacement/requirements.txt (line 1)) (1.19.5)\n",
            "Requirement already satisfied: tqdm in /usr/local/lib/python3.7/dist-packages (from torchtext==0.9.1->-r transformations/mr_value_replacement/requirements.txt (line 1)) (4.49.0)\n",
            "Requirement already satisfied: requests in /usr/local/lib/python3.7/dist-packages (from torchtext==0.9.1->-r transformations/mr_value_replacement/requirements.txt (line 1)) (2.25.1)\n",
            "Requirement already satisfied: typing-extensions in /usr/local/lib/python3.7/dist-packages (from torch==1.8.1->torchtext==0.9.1->-r transformations/mr_value_replacement/requirements.txt (line 1)) (3.7.4.3)\n",
            "Requirement already satisfied: urllib3<1.27,>=1.21.1 in /usr/local/lib/python3.7/dist-packages (from requests->torchtext==0.9.1->-r transformations/mr_value_replacement/requirements.txt (line 1)) (1.25.11)\n",
            "Requirement already satisfied: chardet<5,>=3.0.2 in /usr/local/lib/python3.7/dist-packages (from requests->torchtext==0.9.1->-r transformations/mr_value_replacement/requirements.txt (line 1)) (3.0.4)\n",
            "Requirement already satisfied: idna<3,>=2.5 in /usr/local/lib/python3.7/dist-packages (from requests->torchtext==0.9.1->-r transformations/mr_value_replacement/requirements.txt (line 1)) (2.10)\n",
            "Requirement already satisfied: certifi>=2017.4.17 in /usr/local/lib/python3.7/dist-packages (from requests->torchtext==0.9.1->-r transformations/mr_value_replacement/requirements.txt (line 1)) (2021.5.30)\n",
            "Requirement already satisfied: inflect==5.3.0 in /usr/local/lib/python3.7/dist-packages (from -r transformations/number-to-word/requirements.txt (line 1)) (5.3.0)\n",
            "Requirement already satisfied: rouge_score in /usr/local/lib/python3.7/dist-packages (from -r transformations/lost_in_translation/requirements.txt (line 1)) (0.0.4)\n",
            "Requirement already satisfied: six>=1.14.0 in /usr/local/lib/python3.7/dist-packages (from rouge_score->-r transformations/lost_in_translation/requirements.txt (line 1)) (1.15.0)\n",
            "Requirement already satisfied: numpy in /usr/local/lib/python3.7/dist-packages (from rouge_score->-r transformations/lost_in_translation/requirements.txt (line 1)) (1.19.5)\n",
            "Requirement already satisfied: absl-py in /usr/local/lib/python3.7/dist-packages (from rouge_score->-r transformations/lost_in_translation/requirements.txt (line 1)) (0.12.0)\n",
            "Requirement already satisfied: nltk in /usr/local/lib/python3.7/dist-packages (from rouge_score->-r transformations/lost_in_translation/requirements.txt (line 1)) (3.6.2)\n",
            "Requirement already satisfied: tqdm in /usr/local/lib/python3.7/dist-packages (from nltk->rouge_score->-r transformations/lost_in_translation/requirements.txt (line 1)) (4.49.0)\n",
            "Requirement already satisfied: click in /usr/local/lib/python3.7/dist-packages (from nltk->rouge_score->-r transformations/lost_in_translation/requirements.txt (line 1)) (7.1.2)\n",
            "Requirement already satisfied: joblib in /usr/local/lib/python3.7/dist-packages (from nltk->rouge_score->-r transformations/lost_in_translation/requirements.txt (line 1)) (1.0.1)\n",
            "Requirement already satisfied: regex in /usr/local/lib/python3.7/dist-packages (from nltk->rouge_score->-r transformations/lost_in_translation/requirements.txt (line 1)) (2021.10.21)\n",
            "Collecting pattern@ git+https://github.com/tanay2001/pattern.git\n",
            "  Cloning https://github.com/tanay2001/pattern.git to /tmp/pip-install-9jy7v7k_/pattern_08a7d45e43fe4e82886e5dd791e95662\n",
            "  Running command git clone -q https://github.com/tanay2001/pattern.git /tmp/pip-install-9jy7v7k_/pattern_08a7d45e43fe4e82886e5dd791e95662\n"
          ]
        }
      ]
    },
    {
      "cell_type": "markdown",
      "metadata": {
        "id": "j2EBjYPyqCPa"
      },
      "source": [
        "**Note:** \n",
        "The requirements for some transformations and filters may have been disabled (during the merging of PR). If your transformation or filter has disabled requirements, please install them separately by uncommenting the below command and adding the relevant transformation or filter name."
      ]
    },
    {
      "cell_type": "code",
      "metadata": {
        "id": "nypdK4y-qOYB"
      },
      "source": [
        "# ! pip install transformations_or_filters_folder/transformation_or_filter_name/requirements-disabled.txt"
      ],
      "execution_count": null,
      "outputs": []
    },
    {
      "cell_type": "markdown",
      "metadata": {
        "id": "NcOTesRpRwvl"
      },
      "source": [
        "# Transformations\n",
        "\n",
        "Each transformation may support multiple task types. Depending on the task types used in the transformation, the datasets and settings of the model to perform evaluation may differ. Please refer to the [evaluation](https://github.com/GEM-benchmark/NL-Augmenter/tree/main/evaluation) page for different settings. \n",
        "\n",
        "If you want to use any dataset other than the ones shown in the notebook for your task type, you can add that to the evaluation engine by following the instructions specified [here](https://github.com/GEM-benchmark/NL-Augmenter/tree/main/evaluation#evaluation-guideline-and-scripts)."
      ]
    },
    {
      "cell_type": "markdown",
      "metadata": {
        "id": "-ektH5sRF575"
      },
      "source": [
        "## Sentence Operation"
      ]
    },
    {
      "cell_type": "markdown",
      "metadata": {
        "id": "lzd_bm8gk844"
      },
      "source": [
        "If your transformation is a SentenceOperation one, evaluate it by runnning the 4 cells below and paste the numbers in the excel sheet. (Note that you only need to change the model name: each of the below setting represents 4 different settings of models and datasets - to confirm what you are testing, you can check the [evaluation](https://github.com/GEM-benchmark/NL-Augmenter/tree/main/evaluation) page.)"
      ]
    },
    {
      "cell_type": "code",
      "metadata": {
        "colab": {
          "background_save": true,
          "base_uri": "https://localhost:8080/"
        },
        "id": "Tx_vsFTsk8ci",
        "outputId": "13964554-4758-474e-bd56-8734fb0f83d3"
      },
      "source": [
        "!python evaluate.py -t GeoNamesTransformation -task \"TEXT_CLASSIFICATION\" -m \"textattack/roberta-base-imdb\" -d \"imdb\" -p 20"
      ],
      "execution_count": null,
      "outputs": [
        {
          "name": "stdout",
          "output_type": "stream",
          "text": [
            "[nltk_data] Downloading package averaged_perceptron_tagger to\n",
            "[nltk_data]     /root/nltk_data...\n",
            "[nltk_data]   Unzipping taggers/averaged_perceptron_tagger.zip.\n",
            "[nltk_data] Downloading package cmudict to /root/nltk_data...\n",
            "[nltk_data]   Unzipping corpora/cmudict.zip.\n",
            "[nltk_data] Downloading package stopwords to /root/nltk_data...\n",
            "[nltk_data]   Unzipping corpora/stopwords.zip.\n",
            "[nltk_data] Downloading package punkt to /root/nltk_data...\n",
            "[nltk_data]   Unzipping tokenizers/punkt.zip.\n",
            "[nltk_data] Downloading package universal_tagset to /root/nltk_data...\n",
            "[nltk_data]   Unzipping taggers/universal_tagset.zip.\n",
            "Downloading: 100% 908/908 [00:00<00:00, 679kB/s]\n",
            "Downloading: 100% 1.63G/1.63G [00:45<00:00, 35.6MB/s]\n",
            "Downloading: 100% 899k/899k [00:01<00:00, 829kB/s]\n",
            "Downloading: 100% 456k/456k [00:00<00:00, 626kB/s]\n",
            "Downloading: 100% 1.36M/1.36M [00:01<00:00, 1.06MB/s]\n",
            "Downloading: 100% 26.0/26.0 [00:00<00:00, 20.0kB/s]\n",
            "Downloading: 100% 665/665 [00:00<00:00, 441kB/s]\n",
            "Downloading: 100% 548M/548M [00:15<00:00, 36.0MB/s]\n",
            "Downloading: 100% 1.04M/1.04M [00:00<00:00, 1.15MB/s]\n",
            "Downloading: 100% 456k/456k [00:00<00:00, 631kB/s]\n",
            "Downloading: 100% 1.36M/1.36M [00:00<00:00, 1.48MB/s]\n",
            "Loading <imdb> dataset to evaluate <textattack/roberta-base-imdb> model.\n",
            "Downloading: 100% 559/559 [00:00<00:00, 376kB/s]\n",
            "Downloading: 100% 501M/501M [00:23<00:00, 21.5MB/s]\n",
            "Some weights of the model checkpoint at textattack/roberta-base-imdb were not used when initializing RobertaForSequenceClassification: ['roberta.pooler.dense.weight', 'roberta.pooler.dense.bias']\n",
            "- This IS expected if you are initializing RobertaForSequenceClassification from the checkpoint of a model trained on another task or with another architecture (e.g. initializing a BertForSequenceClassification model from a BertForPreTraining model).\n",
            "- This IS NOT expected if you are initializing RobertaForSequenceClassification from the checkpoint of a model that you expect to be exactly identical (initializing a BertForSequenceClassification model from a BertForSequenceClassification model).\n",
            "Downloading: 100% 798k/798k [00:00<00:00, 874kB/s] \n",
            "Downloading: 100% 456k/456k [00:00<00:00, 627kB/s]\n",
            "Downloading: 100% 239/239 [00:00<00:00, 171kB/s]\n",
            "Downloading: 100% 25.0/25.0 [00:00<00:00, 18.7kB/s]\n",
            "Downloading: 4.61kB [00:00, 3.70MB/s]       \n",
            "Downloading: 2.02kB [00:00, 2.29MB/s]       \n",
            "Downloading and preparing dataset imdb/plain_text (download: 80.23 MiB, generated: 127.06 MiB, post-processed: Unknown size, total: 207.28 MiB) to /root/.cache/huggingface/datasets/imdb/plain_text/1.0.0/4ea52f2e58a08dbc12c2bd52d0d92b30b88c00230b4522801b3636782f625c5b...\n",
            "Downloading: 100% 84.1M/84.1M [00:07<00:00, 11.8MB/s]\n",
            "Dataset imdb downloaded and prepared to /root/.cache/huggingface/datasets/imdb/plain_text/1.0.0/4ea52f2e58a08dbc12c2bd52d0d92b30b88c00230b4522801b3636782f625c5b. Subsequent calls will reuse this data.\n",
            "Here is the performance of the model textattack/roberta-base-imdb on the test[:20%] split of the imdb dataset\n",
            "The accuracy on this subset which has 1000 examples = 95.0\n",
            "Applying transformation:\n",
            "100% 1000/1000 [00:02<00:00, 353.73it/s]\n",
            "Finished transformation! 20646 examples generated from 1000 original examples, with 20646 successfully transformed and 0 unchanged (1.0 perturb rate)\n",
            "Here is the performance of the model on the transformed set\n",
            "The accuracy on this subset which has 20646 examples = 94.0\n"
          ]
        }
      ]
    },
    {
      "cell_type": "code",
      "metadata": {
        "id": "N-wLBvkbsfuj"
      },
      "source": [
        "!python evaluate.py -t GeoNamesTransformation -task \"TEXT_CLASSIFICATION\" -m \"textattack/roberta-base-SST-2\" -d \"sst2\" -p 20"
      ],
      "execution_count": null,
      "outputs": []
    },
    {
      "cell_type": "code",
      "metadata": {
        "id": "QP4Wyxy4nCOA"
      },
      "source": [
        "!python evaluate.py -t GeoNamesTransformation -task \"TEXT_CLASSIFICATION\" -m \"textattack/bert-base-uncased-QQP\" -d \"qqp\" -p 20"
      ],
      "execution_count": null,
      "outputs": []
    },
    {
      "cell_type": "code",
      "metadata": {
        "id": "YfCVqpa8nvLg"
      },
      "source": [
        "!python evaluate.py -t GeoNamesTransformation -task \"TEXT_CLASSIFICATION\" -m \"roberta-large-mnli\" -d \"multi_nli\" -p 20"
      ],
      "execution_count": null,
      "outputs": []
    },
    {
      "cell_type": "markdown",
      "metadata": {
        "id": "tQK8ceuKF9W6"
      },
      "source": [
        "## QuestionAnswer Operation"
      ]
    },
    {
      "cell_type": "markdown",
      "metadata": {
        "id": "fFBsO3-7GyTp"
      },
      "source": [
        "If your transformation is a question answering one, run the below command with your transformation name."
      ]
    },
    {
      "cell_type": "code",
      "metadata": {
        "colab": {
          "base_uri": "https://localhost:8080/"
        },
        "id": "TnhN8DnZGBcn",
        "outputId": "479ba1ba-4fbf-463f-a0d1-863ea0d82ce7"
      },
      "source": [
        "!python evaluate.py -t QuestionInCaps -task \"QUESTION_ANSWERING\" -m \"mrm8488/bert-tiny-finetuned-squadv2\" -d \"squad\" -p 20"
      ],
      "execution_count": null,
      "outputs": [
        {
          "output_type": "stream",
          "name": "stdout",
          "text": [
            "[nltk_data] Downloading package averaged_perceptron_tagger to\n",
            "[nltk_data]     /root/nltk_data...\n",
            "[nltk_data]   Unzipping taggers/averaged_perceptron_tagger.zip.\n",
            "[nltk_data] Downloading package cmudict to /root/nltk_data...\n",
            "[nltk_data]   Unzipping corpora/cmudict.zip.\n",
            "[nltk_data] Downloading package stopwords to /root/nltk_data...\n",
            "[nltk_data]   Unzipping corpora/stopwords.zip.\n",
            "[nltk_data] Downloading package punkt to /root/nltk_data...\n",
            "[nltk_data]   Unzipping tokenizers/punkt.zip.\n",
            "[nltk_data] Downloading package universal_tagset to /root/nltk_data...\n",
            "[nltk_data]   Unzipping taggers/universal_tagset.zip.\n",
            "Downloading: 100% 908/908 [00:00<00:00, 722kB/s]\n",
            "Downloading: 100% 1.63G/1.63G [00:44<00:00, 36.6MB/s]\n",
            "Downloading: 100% 899k/899k [00:00<00:00, 980kB/s]\n",
            "Downloading: 100% 456k/456k [00:00<00:00, 629kB/s]\n",
            "Downloading: 100% 1.36M/1.36M [00:01<00:00, 1.24MB/s]\n",
            "Downloading: 100% 26.0/26.0 [00:00<00:00, 20.4kB/s]\n",
            "Downloading: 100% 665/665 [00:00<00:00, 462kB/s]\n",
            "Downloading: 100% 548M/548M [00:14<00:00, 37.5MB/s]\n",
            "Downloading: 100% 1.04M/1.04M [00:01<00:00, 953kB/s]\n",
            "Downloading: 100% 456k/456k [00:00<00:00, 631kB/s]\n",
            "Downloading: 100% 1.36M/1.36M [00:00<00:00, 1.47MB/s]\n",
            "Loading <squad> dataset to evaluate <mrm8488/bert-tiny-finetuned-squadv2> model.\n",
            "Downloading: 5.03kB [00:00, 4.67MB/s]       \n",
            "Downloading: 2.19kB [00:00, 2.78MB/s]     \n",
            "Downloading and preparing dataset squad/plain_text (download: 33.51 MiB, generated: 85.75 MiB, post-processed: Unknown size, total: 119.27 MiB) to /root/.cache/huggingface/datasets/squad/plain_text/1.0.0/4fffa6cf76083860f85fa83486ec3028e7e32c342c218ff2a620fc6b2868483a...\n",
            "Downloading: 30.3MB [00:00, 53.4MB/s]\n",
            "Downloading: 4.85MB [00:00, 51.3MB/s]       \n",
            "Dataset squad downloaded and prepared to /root/.cache/huggingface/datasets/squad/plain_text/1.0.0/4fffa6cf76083860f85fa83486ec3028e7e32c342c218ff2a620fc6b2868483a. Subsequent calls will reuse this data.\n",
            "Downloading: 100% 462/462 [00:00<00:00, 338kB/s]\n",
            "Downloading: 100% 17.6M/17.6M [00:02<00:00, 6.74MB/s]\n",
            "Downloading: 100% 232k/232k [00:00<00:00, 427kB/s]\n",
            "Downloading: 100% 112/112 [00:00<00:00, 97.7kB/s]\n"
          ]
        }
      ]
    },
    {
      "cell_type": "markdown",
      "metadata": {
        "id": "KU4MeoylG-d6"
      },
      "source": [
        "## Tagging Operation"
      ]
    },
    {
      "cell_type": "markdown",
      "metadata": {
        "id": "lL8zDagJSF87"
      },
      "source": [
        "If your transformation uses tagging operation, run the below command with your transformation name."
      ]
    },
    {
      "cell_type": "code",
      "metadata": {
        "colab": {
          "base_uri": "https://localhost:8080/"
        },
        "id": "hPMYJOUnG_l4",
        "outputId": "7de2f9ea-98c5-43f1-e132-b81acce33924"
      },
      "source": [
        "!python evaluate.py -t LongerLocationNer -task \"TEXT_TAGGING\" -m \"dslim/bert-base-NER\" -p 20"
      ],
      "execution_count": null,
      "outputs": [
        {
          "output_type": "stream",
          "name": "stdout",
          "text": [
            "[nltk_data] Downloading package averaged_perceptron_tagger to\n",
            "[nltk_data]     /root/nltk_data...\n",
            "[nltk_data]   Unzipping taggers/averaged_perceptron_tagger.zip.\n",
            "[nltk_data] Downloading package cmudict to /root/nltk_data...\n",
            "[nltk_data]   Unzipping corpora/cmudict.zip.\n",
            "[nltk_data] Downloading package stopwords to /root/nltk_data...\n",
            "[nltk_data]   Unzipping corpora/stopwords.zip.\n",
            "[nltk_data] Downloading package punkt to /root/nltk_data...\n",
            "[nltk_data]   Unzipping tokenizers/punkt.zip.\n",
            "[nltk_data] Downloading package universal_tagset to /root/nltk_data...\n",
            "[nltk_data]   Unzipping taggers/universal_tagset.zip.\n",
            "Downloading: 100% 908/908 [00:00<00:00, 535kB/s]\n",
            "Downloading: 100% 1.63G/1.63G [00:50<00:00, 32.0MB/s]\n",
            "Downloading: 100% 899k/899k [00:00<00:00, 5.36MB/s]\n",
            "Downloading: 100% 456k/456k [00:00<00:00, 4.12MB/s]\n",
            "Downloading: 100% 1.36M/1.36M [00:00<00:00, 9.13MB/s]\n",
            "Downloading: 100% 26.0/26.0 [00:00<00:00, 19.3kB/s]\n",
            "Downloading: 100% 665/665 [00:00<00:00, 426kB/s]\n",
            "Downloading: 100% 548M/548M [00:17<00:00, 32.0MB/s]\n",
            "Downloading: 100% 1.04M/1.04M [00:00<00:00, 5.75MB/s]\n",
            "Downloading: 100% 456k/456k [00:00<00:00, 3.28MB/s]\n",
            "Downloading: 100% 1.36M/1.36M [00:00<00:00, 8.29MB/s]\n",
            "Loading <conll2003> dataset to evaluate <dslim/bert-base-NER> model.\n",
            "Downloading: 9.52kB [00:00, 8.13MB/s]       \n",
            "Downloading: 4.18kB [00:00, 3.62MB/s]       \n",
            "Downloading and preparing dataset conll2003/conll2003 (download: 4.63 MiB, generated: 9.78 MiB, post-processed: Unknown size, total: 14.41 MiB) to /root/.cache/huggingface/datasets/conll2003/conll2003/1.0.0/40e7cb6bcc374f7c349c83acd1e9352a4f09474eb691f64f364ee62eb65d0ca6...\n",
            "Downloading: 3.28MB [00:00, 44.5MB/s]      \n",
            "Downloading: 827kB [00:00, 31.5MB/s]       \n",
            "Downloading: 748kB [00:00, 31.6MB/s]       \n",
            "Dataset conll2003 downloaded and prepared to /root/.cache/huggingface/datasets/conll2003/conll2003/1.0.0/40e7cb6bcc374f7c349c83acd1e9352a4f09474eb691f64f364ee62eb65d0ca6. Subsequent calls will reuse this data.\n",
            "Downloading: 100% 829/829 [00:00<00:00, 535kB/s]\n",
            "Downloading: 100% 433M/433M [00:13<00:00, 31.0MB/s]\n",
            "Downloading: 100% 213k/213k [00:00<00:00, 2.38MB/s]\n",
            "Downloading: 100% 2.00/2.00 [00:00<00:00, 1.30kB/s]\n",
            "Downloading: 100% 112/112 [00:00<00:00, 79.3kB/s]\n",
            "Downloading: 100% 59.0/59.0 [00:00<00:00, 38.6kB/s]\n",
            "Length of Evaluation dataset is 691\n",
            "Traceback (most recent call last):\n",
            "  File \"evaluate.py\", line 71, in <module>\n",
            "    if_filter,\n",
            "  File \"/content/NL-Augmenter/evaluation/evaluation_engine.py\", line 43, in evaluate\n",
            "    percentage_of_examples=percentage_of_examples,\n",
            "  File \"/content/NL-Augmenter/evaluation/evaluation_engine.py\", line 129, in execute_model\n",
            "    split=f\"test[:{percentage_of_examples}%]\",\n",
            "  File \"/content/NL-Augmenter/evaluation/evaluate_ner_tagging.py\", line 109, in evaluate\n",
            "    )[0]\n",
            "IndexError: list index out of range\n"
          ]
        }
      ]
    },
    {
      "cell_type": "markdown",
      "metadata": {
        "id": "WRza51IYSWKm"
      },
      "source": [
        "# Filters\n",
        "\n",
        "Each filter may support multiple task types. Depending on the task types used in the filter, the datasets and settings of the model to perform evaluation may differ. Please refer to the [evaluation](https://github.com/GEM-benchmark/NL-Augmenter/tree/main/evaluation) page for different settings.\n",
        "\n",
        "If you want to use any dataset other than the ones shown in the notebook for your task type, you can add that to the evaluation engine by following the instructions specified [here](https://github.com/GEM-benchmark/NL-Augmenter/tree/main/evaluation#evaluation-guideline-and-scripts)."
      ]
    },
    {
      "cell_type": "markdown",
      "metadata": {
        "id": "VE3Ax1e1SZmW"
      },
      "source": [
        "## Sentence Operation\n",
        "\n",
        "If your filter is a SentenceOperation one, evaluate it by runnning the 4 cells below and paste the numbers in the excel sheet. (Note that you only need to change the model name: each of the below setting represents 4 different settings of models and datasets - to confirm what you are testing, you can check the evaluation page.)"
      ]
    },
    {
      "cell_type": "code",
      "metadata": {
        "colab": {
          "base_uri": "https://localhost:8080/"
        },
        "id": "DiGjtVb_YBck",
        "outputId": "15b85236-fafd-45a3-d05e-cc7352c59e9b"
      },
      "source": [
        "!python evaluate.py -f TextContainsNumericFilter -task \"TEXT_CLASSIFICATION\" -m \"textattack/roberta-base-imdb\" -d \"imdb\" -p 20"
      ],
      "execution_count": null,
      "outputs": [
        {
          "output_type": "stream",
          "name": "stdout",
          "text": [
            "Traceback (most recent call last):\n",
            "  File \"evaluate.py\", line 56, in <module>\n",
            "    implementation = get_implementation(args.filter, \"filters\")\n",
            "  File \"/content/NL-Augmenter/TestRunner.py\", line 235, in get_implementation\n",
            "    for operation in OperationRuns.get_all_operations(search):\n",
            "  File \"/content/NL-Augmenter/TestRunner.py\", line 215, in get_all_operations\n",
            "    t_py = import_module(f\"{search}.{folder}\")\n",
            "  File \"/usr/lib/python3.7/importlib/__init__.py\", line 127, in import_module\n",
            "    return _bootstrap._gcd_import(name[level:], package, level)\n",
            "  File \"<frozen importlib._bootstrap>\", line 1006, in _gcd_import\n",
            "  File \"<frozen importlib._bootstrap>\", line 983, in _find_and_load\n",
            "  File \"<frozen importlib._bootstrap>\", line 967, in _find_and_load_unlocked\n",
            "  File \"<frozen importlib._bootstrap>\", line 677, in _load_unlocked\n",
            "  File \"<frozen importlib._bootstrap_external>\", line 728, in exec_module\n",
            "  File \"<frozen importlib._bootstrap>\", line 219, in _call_with_frames_removed\n",
            "  File \"/content/NL-Augmenter/filters/code_mixing/__init__.py\", line 1, in <module>\n",
            "    from .filter import *\n",
            "  File \"/content/NL-Augmenter/filters/code_mixing/filter.py\", line 2, in <module>\n",
            "    from ftlid import identify_language\n",
            "ModuleNotFoundError: No module named 'ftlid'\n"
          ]
        }
      ]
    },
    {
      "cell_type": "code",
      "metadata": {
        "id": "NYSJGKIjYG1y"
      },
      "source": [
        "!python evaluate.py -f TextContainsNumericFilter -task \"TEXT_CLASSIFICATION\" -m \"textattack/roberta-base-SST-2\" -d \"sst2\" -p 20"
      ],
      "execution_count": null,
      "outputs": []
    },
    {
      "cell_type": "code",
      "metadata": {
        "id": "P2cebsGUYGij"
      },
      "source": [
        "!python evaluate.py -f TextContainsNumericFilter -task \"TEXT_CLASSIFICATION\" -m \"textattack/bert-base-uncased-QQP\" -d \"qqp\" -p 20"
      ],
      "execution_count": null,
      "outputs": []
    },
    {
      "cell_type": "code",
      "metadata": {
        "id": "ipf8zdD1UaKe",
        "colab": {
          "base_uri": "https://localhost:8080/"
        },
        "outputId": "7bc50220-4fca-40e0-fd15-334fc8364a6d"
      },
      "source": [
        "!python evaluate.py -f TextContainsNumericFilter -task \"TEXT_CLASSIFICATION\" -m \"roberta-large-mnli\" -d \"multi_nli\" -p 20"
      ],
      "execution_count": null,
      "outputs": [
        {
          "output_type": "stream",
          "name": "stdout",
          "text": [
            "python3: can't open file 'evaluate.py': [Errno 2] No such file or directory\n"
          ]
        }
      ]
    },
    {
      "cell_type": "markdown",
      "metadata": {
        "id": "2JMfzC1WYnhb"
      },
      "source": [
        "## QuestionAnswer Operation"
      ]
    },
    {
      "cell_type": "markdown",
      "metadata": {
        "id": "HlDqdSEhYy_0"
      },
      "source": [
        "If your filter is a question answering one, run the below command with your filter name."
      ]
    },
    {
      "cell_type": "code",
      "metadata": {
        "colab": {
          "base_uri": "https://localhost:8080/"
        },
        "id": "zusFVRM9Y0LF",
        "outputId": "66506619-8e21-445f-adfa-b767912a73f1"
      },
      "source": [
        "!python evaluate.py -f  NumericQuestion -task \"QUESTION_ANSWERING\" -m \"mrm8488/bert-tiny-finetuned-squadv2\" -d \"squad\" -p 20"
      ],
      "execution_count": null,
      "outputs": [
        {
          "output_type": "stream",
          "name": "stdout",
          "text": [
            "Traceback (most recent call last):\n",
            "  File \"evaluate.py\", line 56, in <module>\n",
            "    implementation = get_implementation(args.filter, \"filters\")\n",
            "  File \"/content/NL-Augmenter/TestRunner.py\", line 235, in get_implementation\n",
            "    for operation in OperationRuns.get_all_operations(search):\n",
            "  File \"/content/NL-Augmenter/TestRunner.py\", line 215, in get_all_operations\n",
            "    t_py = import_module(f\"{search}.{folder}\")\n",
            "  File \"/usr/lib/python3.7/importlib/__init__.py\", line 127, in import_module\n",
            "    return _bootstrap._gcd_import(name[level:], package, level)\n",
            "  File \"<frozen importlib._bootstrap>\", line 1006, in _gcd_import\n",
            "  File \"<frozen importlib._bootstrap>\", line 983, in _find_and_load\n",
            "  File \"<frozen importlib._bootstrap>\", line 967, in _find_and_load_unlocked\n",
            "  File \"<frozen importlib._bootstrap>\", line 677, in _load_unlocked\n",
            "  File \"<frozen importlib._bootstrap_external>\", line 728, in exec_module\n",
            "  File \"<frozen importlib._bootstrap>\", line 219, in _call_with_frames_removed\n",
            "  File \"/content/NL-Augmenter/filters/code_mixing/__init__.py\", line 1, in <module>\n",
            "    from .filter import *\n",
            "  File \"/content/NL-Augmenter/filters/code_mixing/filter.py\", line 2, in <module>\n",
            "    from ftlid import identify_language\n",
            "ModuleNotFoundError: No module named 'ftlid'\n"
          ]
        }
      ]
    },
    {
      "cell_type": "markdown",
      "metadata": {
        "id": "OukwSxmFZyGc"
      },
      "source": [
        "**Note:**\n",
        "\n",
        "If there are any issues or error while running the notebook, please feel free to raise an issue [here](https://github.com/GEM-benchmark/NL-Augmenter/issues)."
      ]
    }
  ]
}