{
 "cells": [
  {
   "cell_type": "markdown",
   "metadata": {},
   "source": [
    "# Numeric to word\n",
    "\n",
    "Converts:\n",
    "- General number and decimals (Distance, weight, etc)\n",
    "- Time\n",
    "    - Hour (https://sukhbinder.wordpress.com/2013/12/29/time-in-words-with-python/)\n",
    "    - Date\n",
    "    - Year\n",
    "- Phone number (https://stackabuse.com/validating-and-formatting-phone-numbers-in-python)\n",
    "- Money (the currency symbols)\n",
    "\n",
    "Steps:\n",
    "- The calculation itself (50% done)\n",
    "- Corner cases\n",
    "- Implementation to NL-augmenter\n",
    "\n",
    "Further improvements:\n",
    "- Word to numeric\n",
    "    - https://pypi.org/project/word2number-i18n/\n",
    "    - https://pypi.org/project/word2number/\n",
    "- All lang numeric\n",
    "    - https://pypi.org/project/fastlangid/"
   ]
  },
  {
   "cell_type": "code",
   "execution_count": 1,
   "metadata": {},
   "outputs": [],
   "source": [
    "import datetime\n",
    "import phonenumbers\n",
    "from num2words import num2words\n",
    "from phonenumbers import carrier, timezone, geocoder\n",
    "\n",
    "from supplements import symbol_to_currency_name_dict, TimeInWords2"
   ]
  },
  {
   "cell_type": "markdown",
   "metadata": {},
   "source": [
    "### General number and decimals (Distance, weight, etc)"
   ]
  },
  {
   "cell_type": "code",
   "execution_count": 2,
   "metadata": {},
   "outputs": [
    {
     "name": "stdout",
     "output_type": "stream",
     "text": [
      "two thousand five hundred\n"
     ]
    }
   ],
   "source": [
    "words = ''.join(num2words(2500).split(\",\"))\n",
    "print(words)"
   ]
  },
  {
   "cell_type": "markdown",
   "metadata": {},
   "source": [
    "### Time\n",
    "#### Hour"
   ]
  },
  {
   "cell_type": "code",
   "execution_count": 3,
   "metadata": {},
   "outputs": [
    {
     "name": "stdout",
     "output_type": "stream",
     "text": [
      "half past ten\n"
     ]
    }
   ],
   "source": [
    "t = TimeInWords2()\n",
    "print(t.caltime(\"10:30\"))"
   ]
  },
  {
   "cell_type": "markdown",
   "metadata": {},
   "source": [
    "#### Date"
   ]
  },
  {
   "cell_type": "code",
   "execution_count": 4,
   "metadata": {},
   "outputs": [],
   "source": [
    "# TO DO"
   ]
  },
  {
   "cell_type": "markdown",
   "metadata": {},
   "source": [
    "#### Year"
   ]
  },
  {
   "cell_type": "code",
   "execution_count": 5,
   "metadata": {},
   "outputs": [],
   "source": [
    "# TO DO"
   ]
  },
  {
   "cell_type": "markdown",
   "metadata": {},
   "source": [
    "### Phone number"
   ]
  },
  {
   "cell_type": "code",
   "execution_count": 6,
   "metadata": {},
   "outputs": [
    {
     "name": "stdout",
     "output_type": "stream",
     "text": [
      "four hundred and forty-seven billion nine hundred and eighty-six million one hundred and twenty-three thousand four hundred and fifty-six\n"
     ]
    }
   ],
   "source": [
    "phone_number = \"+44-7986-123456\"\n",
    "\n",
    "my_number = phonenumbers.parse(phone_number, \"ID\")\n",
    "if phonenumbers.is_valid_number(my_number):\n",
    "    phone_number = ''.join(phone_number.split(\"-\"))\n",
    "    words = ''.join(num2words(phone_number).split(\",\"))\n",
    "    \n",
    "print(words)"
   ]
  },
  {
   "cell_type": "markdown",
   "metadata": {},
   "source": [
    "### Money (the currency symbols)\n",
    "\n",
    "Find the currency symbols in text: https://www.geeksforgeeks.org/how-to-find-index-of-any-currency-symbols-in-a-given-string/\n",
    "\n",
    "The symbols:\n",
    "- https://thefactfile.org/countries-currencies-symbols/ (taken)\n",
    "- https://wise.com/gb/blog/world-currency-symbols"
   ]
  },
  {
   "cell_type": "code",
   "execution_count": 7,
   "metadata": {},
   "outputs": [
    {
     "data": {
      "text/plain": [
       "'Indonesian Rupiah'"
      ]
     },
     "execution_count": 7,
     "metadata": {},
     "output_type": "execute_result"
    }
   ],
   "source": [
    "symbol_to_currency_name_dict['Rp']"
   ]
  }
 ],
 "metadata": {
  "kernelspec": {
   "display_name": "Python 3",
   "language": "python",
   "name": "python3"
  },
  "language_info": {
   "codemirror_mode": {
    "name": "ipython",
    "version": 3
   },
   "file_extension": ".py",
   "mimetype": "text/x-python",
   "name": "python",
   "nbconvert_exporter": "python",
   "pygments_lexer": "ipython3",
   "version": "3.8.5"
  }
 },
 "nbformat": 4,
 "nbformat_minor": 4
}
