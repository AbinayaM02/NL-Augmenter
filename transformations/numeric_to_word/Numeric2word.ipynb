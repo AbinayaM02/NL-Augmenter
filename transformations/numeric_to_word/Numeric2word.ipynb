{
 "cells": [
  {
   "cell_type": "markdown",
   "metadata": {},
   "source": [
    "# Numeric to word\n",
    "\n",
    "Converts:\n",
    "- General number and decimals (Distance, weight, etc)\n",
    "- Time\n",
    "    - Hour (enhanced from https://sukhbinder.wordpress.com/2013/12/29/time-in-words-with-python/)\n",
    "    - Date (format is following from https://en.wikipedia.org/wiki/Date_format_by_country)\n",
    "    - Year\n",
    "- Phone number (https://stackabuse.com/validating-and-formatting-phone-numbers-in-python)\n",
    "- Money (the currency symbols)\n",
    "    - Find the currency symbols in text:\n",
    "        - https://www.geeksforgeeks.org/how-to-find-index-of-any-currency-symbols-in-a-given-string/\n",
    "    - The symbols:\n",
    "        - https://thefactfile.org/countries-currencies-symbols/ (taken)\n",
    "        - https://wise.com/gb/blog/world-currency-symbols\n",
    "\n",
    "TO DO:\n",
    "- Corner cases check (please write your test cases in this notebook)\n",
    "- Implementation to NL-augmenter\n",
    "\n",
    "Further improvements:\n",
    "- Word to numeric\n",
    "    - https://pypi.org/project/word2number-i18n/\n",
    "    - https://pypi.org/project/word2number/\n",
    "- All lang numeric\n",
    "    - https://pypi.org/project/fastlangid/"
   ]
  },
  {
   "cell_type": "code",
   "execution_count": 1,
   "metadata": {},
   "outputs": [],
   "source": [
    "import numeric2word"
   ]
  },
  {
   "cell_type": "markdown",
   "metadata": {},
   "source": [
    "#### Implementation"
   ]
  },
  {
   "cell_type": "code",
   "execution_count": 2,
   "metadata": {},
   "outputs": [],
   "source": [
    "# TO DO: Check whether all the desired capabilities are met\n",
    "\n",
    "# YOUR TEST STRINGS HERE #\n",
    "x = '2020/01/02'\n",
    "\n",
    "transformed_sentences = []\n",
    "for sentence in [\"Please buy me 20 apples\",\n",
    "                 \"The deadline is in 2020/01/02\",\n",
    "                 \"I have 3 dogs at home\",\n",
    "                 \"My phone number is +1371893178\",\n",
    "                 \"My phone number is +6287822216501\",\n",
    "                 \"The price is $300\"]:\n",
    "    transformed_words = []\n",
    "    for word in sentence.split():\n",
    "        transformed_word = numeric2word.recognize_transform(word)\n",
    "        transformed_words.append(transformed_word)\n",
    "    transformed_sentence = ' '.join(transformed_words)\n",
    "    transformed_sentences.append(transformed_sentence)"
   ]
  },
  {
   "cell_type": "code",
   "execution_count": 3,
   "metadata": {},
   "outputs": [
    {
     "data": {
      "text/plain": [
       "['Please buy me twenty apples',\n",
       " 'The deadline is in second of january twenty twenty',\n",
       " 'I have three dogs at home',\n",
       " 'My phone number is +1371893178',\n",
       " 'My phone number is six two eight seven eight two two two one six five zero one ',\n",
       " 'The price is $300']"
      ]
     },
     "execution_count": 3,
     "metadata": {},
     "output_type": "execute_result"
    }
   ],
   "source": [
    "transformed_sentences"
   ]
  }
 ],
 "metadata": {
  "kernelspec": {
   "display_name": "Python 3",
   "language": "python",
   "name": "python3"
  },
  "language_info": {
   "codemirror_mode": {
    "name": "ipython",
    "version": 3
   },
   "file_extension": ".py",
   "mimetype": "text/x-python",
   "name": "python",
   "nbconvert_exporter": "python",
   "pygments_lexer": "ipython3",
   "version": "3.8.5"
  }
 },
 "nbformat": 4,
 "nbformat_minor": 4
}
