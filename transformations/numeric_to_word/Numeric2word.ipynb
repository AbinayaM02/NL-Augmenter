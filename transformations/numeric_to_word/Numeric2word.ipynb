{
 "cells": [
  {
   "cell_type": "markdown",
   "metadata": {},
   "source": [
    "# Numeric to word\n",
    "\n",
    "Converts:\n",
    "- General number and decimals (Distance, weight, etc)\n",
    "- Time\n",
    "    - Hour (enhanced from https://sukhbinder.wordpress.com/2013/12/29/time-in-words-with-python/)\n",
    "    - Date (format is following from https://en.wikipedia.org/wiki/Date_format_by_country)\n",
    "    - Year\n",
    "- Phone number (https://stackabuse.com/validating-and-formatting-phone-numbers-in-python)\n",
    "- Money (the currency symbols)\n",
    "    - Find the currency symbols in text:\n",
    "        - https://www.geeksforgeeks.org/how-to-find-index-of-any-currency-symbols-in-a-given-string/\n",
    "    - The symbols:\n",
    "        - https://thefactfile.org/countries-currencies-symbols/ (taken)\n",
    "        - https://wise.com/gb/blog/world-currency-symbols\n",
    "- Sticky number:\n",
    "    - 2x, 5th, 8pm, 10%\n",
    "    - 10-5 mol: if mol then 10^-5, then ten power minus five\n",
    "    - 5-14 years: if year then five to fourteen years\n",
    "- Math:\n",
    "    - Equal: '='\n",
    "    \n",
    "Unhandled:\n",
    "- N2, N2O\n",
    "\n",
    "TO DO:\n",
    "- Corner cases check (please write your test cases in this notebook)\n",
    "- Implementation to NL-augmenter\n",
    "\n",
    "Further improvements:\n",
    "- Word to numeric\n",
    "    - https://pypi.org/project/word2number-i18n/\n",
    "    - https://pypi.org/project/word2number/\n",
    "- All lang numeric\n",
    "    - https://pypi.org/project/fastlangid/"
   ]
  },
  {
   "cell_type": "code",
   "execution_count": 1,
   "metadata": {},
   "outputs": [],
   "source": [
    "import json \n",
    "import numeric2word"
   ]
  },
  {
   "cell_type": "markdown",
   "metadata": {},
   "source": [
    "#### Implementation"
   ]
  },
  {
   "cell_type": "code",
   "execution_count": 2,
   "metadata": {
    "tags": []
   },
   "outputs": [
    {
     "name": "stdout",
     "output_type": "stream",
     "text": [
      "$. \n",
      ". USD\n",
      " $\n",
      "USD \n",
      "$ bn.,business\n",
      "$ m\n",
      "(£ m)\n",
      "£ m\n",
      "The price is $.2\n",
      "The price is $.2\n",
      "\n",
      "The price is .2USD\n",
      "The price is .2USD\n",
      "\n",
      "The price is 2¢\n",
      "The price is two cents\n",
      "\n",
      "The price is 300.2$\n",
      "The price is three hundred point two dollar\n",
      "\n",
      "The price is USD300.2\n",
      "The price is three hundred point two united states dollar\n",
      "\n",
      "last week  mci agreed to a buyout by verizon communications in a deal valued at $6.75bn.,business\n",
      "last week mci agreed to a buyout by verizon communications in a deal valued at $6.75bn.,business\n",
      "\n",
      "the sequel took $44.7m (£23.2m) between 24 and 26 december  according to studio estimates\n",
      "the sequel took $44.7m (£23.2m) between twenty-four and twenty-sixth of december according to studio estimates\n",
      "\n"
     ]
    }
   ],
   "source": [
    "# TO DO: Check whether all the desired capabilities are met\n",
    "\n",
    "transformed_sentences = []\n",
    "for sentence in [    \n",
    "#                 \"Please buy me 20 apples\", #done\n",
    "#                 \"Please buy me 20000 apples\", #done\n",
    "#                 \"The accuracy is 99.22\", #done\n",
    "#                 \"The size is 12,65 L\", #done\n",
    "#                 \"The size is 200,000,000.65 L\", #done\n",
    "#                 \"The size is (12,235)\", #done\n",
    "#                 # Date\n",
    "#                 \"The deadline is in 2020/01/02\", #done\n",
    "#                 \"The deadline is in 2020/01\", #unhandled\n",
    "#                 \"The deadline is in Jan 2020\", #done\n",
    "#                 \"This is 2020!\", #done\n",
    "#                 # Time\n",
    "#                 \"Slow down, it\\'s still 5.05\", #unhandled, considered as a general number in default\n",
    "#                 \"Slow down, it\\'s still 5:10\", #done\n",
    "#                 \"Slow down, it\\'s still 5:29\", #done\n",
    "#                 \"Quick!, it\\'s already 23:00\", #done\n",
    "#                 \"Quick!, it\\'s already 11:30\", #done\n",
    "#                 \"Quick!, it\\'s already 9:45\", #done\n",
    "#                 \"Quick!, it\\'s already 1:50\", #done\n",
    "#                 # Date Time\n",
    "#                 \"Set up a schedule for Monday, June 5th 2021 at 10:00\", #done\n",
    "#                 \"Your christmas dinner is on 25 December 2021 at 8pm\", #done\n",
    "#                 \"You have an appointment on 14/07/2021 at 6pm\", #done\n",
    "#                 \"You have an appointment on 07/14/2021 at 6pm\", #done\n",
    "#                 \"You have an appointment on 07/07/1991 at 6pm\", #done\n",
    "#                 # Percentage\n",
    "#                 \"He only use 20% of my power\", #done\n",
    "#                 \"My phone's battery is less than 10%\", #done\n",
    "#                 # Phone Number\n",
    "#                 \"Call 911 now!\", #done\n",
    "#                 \"Check your credit by dialing *123#\", #done\n",
    "#                 \"My phone number is +1371893178\", #done\n",
    "#                 \"My phone number is +6287822216501\", #done\n",
    "#                 \"My phone number is 6287822\", #done\n",
    "#                 \"My phone number is 628782\", #done\n",
    "#                 \"My phone number is 0741-71893178\", #done\n",
    "#                 \"My phone number is (+62878)-222-165-01\", #done\n",
    "#                 # Currency\n",
    "                \"The price is $.2\", #done\n",
    "                \"The price is .2USD\", #done\n",
    "                \"The price is 2¢\", #done\n",
    "                \"The price is 300.2$\", #done\n",
    "                \"The price is USD300.2\", #done\n",
    "#                 \"The price is 300.2USD\", #done\n",
    "#                 \"The price is USD300!@#!\", #unhandled\n",
    "#                 \"The size is (\\$12,235)\", #unhandled\n",
    "#                 \"The size is ($12,235)\", #done \n",
    "#                 # SemEval 2019 Task 10: Math Question Answering (https://www.aclweb.org/anthology/S19-2153.pdf)\n",
    "#                 \"Suppose 3x + y = 15, where x is a positive integer. What is the difference between the largest possible value of y and the smallest possible value of x, assuming that y is also a positive integer?\", #done\n",
    "#                 \"At a basketball tournament involving 8 teams, each team played 4 games with each of the other teams. How many games were played at this tournament?\", #done\n",
    "#                 \"The lengths of two sides of a triangle are (x − 2) and (x + 2), where x > 2. Which of the following ranges includes all and only the possible values of the third side y? (A) 0 < y < x (B) 0 < y < 2x (C) 4 < y < 2x\", #done\n",
    "#                 # ChemistryQA (https://openreview.net/pdf?id=oeHTRAehiFF)\n",
    "#                 \"At a particular temperature a 2.00 L flask at equilibrium contains 2.80 × 10−4 mol N2, 2.50 × 10−5 mol O2, and 2.00 × 10−2 mol N2O. How would you calculate K at this temperature for the following reaction: N2(g) + O2(g) → N2O(g) ?\", #done\n",
    "#                 \"Volume of the flask is 2.00L. provided Mole of N2 is 2.80 × 10−4 mol. Mole of O2 is 2.50 × 10−5 mol. Mole of N2O is 2.00 × 10−2 mol. Reaction equation is N2(g) + O2(g) → N2O(g).\", #done\n",
    "#                 \"How many moles of ammonium nitrate are in 335 mL of 0.425 M NH4NO3?\", #done unhandled\n",
    "#                 \"What is the empirical formula of magnesium chloride if 0.96 g of magnesium combines with 2.84 g of chlorine?\", #done\n",
    "#                 \"How would you write a balanced equation for the combustion of octane, C8H18 with oxygen to obtain carbon dioxide and water?\", #done unhandled\n",
    "#                 # PubmedQA (https://www.aclweb.org/anthology/D19-1259.pdf)\n",
    "#                 \"221 patients underwent CABG in our hospital from 2004 to 2007. 14 patients with preoperative AF and 4 patients with concomitant valve surgery\", #done\n",
    "#                 \"The overall incidence of postoperative AF was 26%. Postoperative AF was significantly lower in the Statin group compared with the Non-statin group (16% versus 33%, p=0.005).\", #done\n",
    "#                 \"30-day mortality was 12.4% in those aged<70 years and 22% in those>70 years (p<0.001).\", #done\n",
    "#                 \"A total of 4 children aged 5-14 years with a sternal fracture were treated in 2 years, 2 children were hospitalized\",\n",
    "#                 # SMD / KVRET (https://www.aclweb.org/anthology/2020.findings-emnlp.215/)\n",
    "#                 \"Ok setting your medicine appointment for 7pm\", #done\n",
    "#                 \"It will be between 20-30F in Alhambra on Friday.\",\n",
    "#                 \"Safeway is located at 452 Arcadia Pl.\", #done\n",
    "#                 \"The closest parking garage is Civic Center Garage, located 4 miles away at 270 Altaire Walk.\", #done\n",
    "#                 \"Valero is at 200 Alester Avenue.\", #done\n",
    "#                 \"Setting reminder for yoga activity with your mother on the 15th at 3pm \", #done\n",
    "#                 \"You will find Pizza Chicago at 915 Arbol Dr. It is 2 miles away without any traffic\", #done\n",
    "# #                 Mathematics Dataset (https://openreview.net/pdf?id=H1gR5iR5FX)\n",
    "#                 \"Solve -42*r + 27*c = -1167 and 130*r + 4*c = 372 for r.\", #done\n",
    "#                 \"Calculate -841880142.544 + 411127.\", #done\n",
    "#                 \"Let x(g) = 9*g + 1. Let q(c) = 2*c + 1. Let f(i) = 3*i - 39. Let w(j) = q(x(j)). Calculate f(w(a)).\", #done \n",
    "#                 \"Let e(l) = l - 6. Is 2 a factor of both e(9) and 2?\", #done\n",
    "#                 \"Let u(n) = -n**3 - n**2. Let e(c) = -2*c**3 + c. Let l(j) = -118*e(j) + 54*u(j). What is the derivative of l(a)?\", #done \n",
    "# #                 PubMed 200k RCT (https://www.aclweb.org/anthology/I17-2052.pdf)\n",
    "#                 \"A total of 24 male patients with chronic AT (median disease duration, 33 months) were randomized (1:1) to receive either a blinded injection of PRP (n = 12) or saline (n = 12). Patients were informed that they could drop out after 3 months if they were dissatisfied with the treatment.\", #done \n",
    "#                 \"Secondary outcomes were pain at rest (MD, 1.6; 95% CI, -0.5 to 3.7; P = .137), pain while walking (MD, 0.8; 95% CI, -1.8 to 3.3; P = .544), pain when tendon was squeezed (MD, 0.3; 95% CI, -0.2 to 0.9; P = .208).\", #done\n",
    "#                 \"RESULTS\tPlanned contrasts indicated that CB group resulted in lower depressive symptom severity than brochure control at posttest ( p = .03 , d = 0.29 ) but not 6-month follow-up\", #done \n",
    "#                 \"METHODS\tTwelve young ( 18-40 years ) and 12 elderly ( > 65 years and < / = 85 years ) subjects received a single 800-mg oral dose of telithromycin or an intravenous infusion of 400 mg ( young subjects ) or 480 mg ( elderly subjects ) of telithromycin over 2.5 h in two treatment periods , separated by a 1-week washout period .\", #done \n",
    "#                 \"RESULTS\tAt week 26 , HbA1c was significantly reduced from baseline with canagliflozin 100 and 300mg compared with placebo ( -0.77 , -1.03 and 0.14 % , respectively ; p < 0.001 for both ) .\", #done\n",
    "#                 \"BACKGROUND\tAustralia New Zealand Clinical Trials Registry : ACTRN12613000290796 Registered 14 March 2013 .\", #done\n",
    "#                 \"RESULTS\tSignificant improvements in glucose were observed with repaglinide ( HBA ( 1c ) : -1.5 % , fasting glucose : -2.8 mmol/L , 2-h glucose : -3.7 mmol/L , AUC ( 120 ) : -18.9 % ) and glibenclamide ( -1.0 % , -2.2 mmol/L , -2.5 mmol/L , -17.5 % ) .\", #done\n",
    "#                 \"RESULTS\tRepaglinide was also associated with an increase in the AUC ( 60 ) and AUC ( 120 ) for insulin ( +56 % , +61 % ) and C-peptide ( +41 % , +36 % ) .\", #done\n",
    "# #                 BBC News (https://www.kaggle.com/c/learn-ai-bbc)\n",
    "#                 \"1833,worldcom ex-boss launches defence lawyers defending former worldcom chief bernie ebbers against a battery of fraud charges have called a company whistleblower as their first witness.\", #done \n",
    "#                 \"other pre-electronic gadgets in the top 100 include the sextant from 1731 (59th position)  the marine chronometer from 1761 (42nd position) and the kodak brownie camera from 1900 (28th position)\", #done\n",
    "#                 \"australian open champion williams survived an early scare to beat russia s elena bovina 1-6 6-1 6-4. world number one lindsay davenport and anastasia myskina also progressed\", #done\n",
    "                \"last week  mci agreed to a buyout by verizon communications in a deal valued at $6.75bn.,business\",\n",
    "                \"the sequel took $44.7m (£23.2m) between 24 and 26 december  according to studio estimates\",\n",
    "#                 \"odds on kenzie s victory have been slashed from 4/6 to 1/2  although bookmakers have said they are not ruling out a late rally from former happy mondays star bez\", #done\n",
    "#                 \"moya fights back for indian title carlos moya became the first man to successfully defend the chennai open title by beating four-times finalist paradorn srichaphan 3-6 6-4 7-6 (7/5)\", #done\n",
    "#                 CNN/Daily News (https://huggingface.co/datasets/cnn_dailymail)\n",
    "            ]:\n",
    "    transformed_words = []\n",
    "    for i, word in enumerate(sentence.split()):\n",
    "        prev_word = sentence.split()[i-1] if i > 0 else ' ' # beginning of sentence\n",
    "        next_word = sentence.split()[i+1] if i < len(sentence.split())-1 else ' ' # end of sentence\n",
    "        transformed_word = numeric2word.recognize_transform(word, prev_word, next_word)\n",
    "        transformed_words.append(transformed_word)\n",
    "#         print(word, transformed_word, next_word)\n",
    "    transformed_sentence = ' '.join(transformed_words)\n",
    "    transformed_sentences.append({sentence:transformed_sentence})\n",
    "\n",
    "for data in transformed_sentences:\n",
    "    for k,v in data.items():\n",
    "        print(k)\n",
    "        print(v)\n",
    "        print()"
   ]
  },
  {
   "cell_type": "markdown",
   "metadata": {},
   "source": [
    "### Print Test Cases in JSON"
   ]
  },
  {
   "cell_type": "code",
   "execution_count": 3,
   "metadata": {},
   "outputs": [],
   "source": [
    "update_test_cases = False\n",
    "\n",
    "if update_test_cases:\n",
    "    test_json_dict = {\"type\": \"numeric_to_word\",\n",
    "                      \"test_cases\":[]}\n",
    "\n",
    "    for i in range(len(transformed_sentences)):\n",
    "        test_json_dict[\"test_cases\"].append({\"class\": \"NumericToWord\",\n",
    "                                             \"inputs\" : {\"sentence\":list(transformed_sentences[i].items())[0][0]},\n",
    "                                             \"outputs\" : {\"sentence\":list(transformed_sentences[i].items())[0][1]}})\n",
    "\n",
    "    with open(\"test.json\", \"w\") as outfile: \n",
    "        json.dump(test_json_dict, outfile)"
   ]
  },
  {
   "cell_type": "code",
   "execution_count": 4,
   "metadata": {},
   "outputs": [
    {
     "name": "stdout",
     "output_type": "stream",
     "text": [
      "$ m\n",
      "(£ m)\n",
      "£ m\n"
     ]
    },
    {
     "data": {
      "text/plain": [
       "[{'$44.7m (£23.2m)': '$44.7m (£23.2m)'}]"
      ]
     },
     "execution_count": 4,
     "metadata": {},
     "output_type": "execute_result"
    }
   ],
   "source": [
    "transformed_sentences = []\n",
    "for sentence in [\n",
    "#                     '$6.75bn.,business',\n",
    "                    '$44.7m (£23.2m)',\n",
    "                ]:\n",
    "    transformed_words = []\n",
    "    for i, word in enumerate(sentence.split()):\n",
    "        prev_word = sentence.split()[i-1] if i > 0 else ' ' # beginning of sentence\n",
    "        next_word = sentence.split()[i+1] if i < len(sentence.split())-1 else ' ' # end of sentence\n",
    "#         print(word, next_word)\n",
    "        transformed_word = numeric2word.recognize_transform(word, prev_word, next_word)\n",
    "        transformed_words.append(transformed_word)\n",
    "    transformed_sentence = ' '.join(transformed_words)\n",
    "    transformed_sentences.append({sentence:transformed_sentence})\n",
    "transformed_sentences"
   ]
  },
  {
   "cell_type": "code",
   "execution_count": 13,
   "metadata": {},
   "outputs": [],
   "source": [
    "x = '$6.75bn.,business'\n",
    "x = '(£23.2m)'\n",
    "x = '$44.7m'"
   ]
  },
  {
   "cell_type": "code",
   "execution_count": 6,
   "metadata": {},
   "outputs": [],
   "source": [
    "import re\n",
    "from num2words import num2words"
   ]
  },
  {
   "cell_type": "code",
   "execution_count": 7,
   "metadata": {},
   "outputs": [
    {
     "name": "stdout",
     "output_type": "stream",
     "text": [
      " \n"
     ]
    },
    {
     "data": {
      "text/plain": [
       "'m $44'"
      ]
     },
     "execution_count": 7,
     "metadata": {},
     "output_type": "execute_result"
    }
   ],
   "source": [
    "end_digit_index = len(x) - re.search(r\"\\d\", x[::-1]).start()\n",
    "word_list = numeric2word.recognize_transform(x[:end_digit_index-2], '', '').split() + [x[end_digit_index]]\n",
    "words = ' '.join(word_list[:-2] + [word_list[-1]] + [word_list[-2]])\n",
    "words"
   ]
  },
  {
   "cell_type": "code",
   "execution_count": null,
   "metadata": {},
   "outputs": [],
   "source": []
  },
  {
   "cell_type": "code",
   "execution_count": null,
   "metadata": {},
   "outputs": [],
   "source": []
  },
  {
   "cell_type": "code",
   "execution_count": 8,
   "metadata": {},
   "outputs": [],
   "source": [
    "def currency_to_words(x):\n",
    "    currency_symbols = list(numeric2word.symbol_to_currency_name_dict.keys())\n",
    "    currency_abbreviations = list(numeric2word.abbreviated_currency_symbols_to_currency_name_dict.keys())\n",
    "\n",
    "    begin_digit_index = re.search(r\"\\d\", x).start()\n",
    "    end_digit_index = len(x) - re.search(r\"\\d\", x[::-1]).start()\n",
    "    \n",
    "    front_checker = re.sub(\"[.]\", \"\", x[:begin_digit_index])\n",
    "    back_checker = x[end_digit_index:]\n",
    "\n",
    "    if front_checker in currency_symbols: # $300\n",
    "        if x.find('.') > -1:\n",
    "            number = re.sub(\"[^.0-9]\", \"\", x[begin_digit_index-1:])\n",
    "            currency = str.lower(numeric2word.symbol_to_currency_name_dict[re.sub(\"[.]\", \"\", x[:begin_digit_index])])\n",
    "            if len(number[number.index('.')+1:]) > 0 and len(number[:number.index('.')])==0:\n",
    "                if int(number[number.index('.')+1:]) > 1:\n",
    "                    words = num2words(number[number.index('.')+1:]) + ' ' + currency + ' cents'\n",
    "                elif int(number[number.index('.')+1:]) == 1:\n",
    "                    words = num2words(number[number.index('.')+1:]) + ' ' + currency + ' cent'\n",
    "            else:\n",
    "                words = num2words(number) + ' ' + currency       \n",
    "        else:\n",
    "            number = re.sub(\"[^.0-9]\", \"\", x[begin_digit_index:])\n",
    "            currency = str.lower(numeric2word.symbol_to_currency_name_dict[re.sub(\"[.]\", \"\", x[:begin_digit_index])])\n",
    "            words = num2words(number) + ' ' + currency\n",
    "    elif front_checker in currency_abbreviations: # USD300\n",
    "        if x.find('.') > -1:\n",
    "            number = re.sub(\"[^.0-9]\", \"\", x[begin_digit_index-1:])\n",
    "            currency = str.lower(numeric2word.abbreviated_currency_symbols_to_currency_name_dict[re.sub(\"[.]\", \"\", x[:begin_digit_index])])\n",
    "            if len(number[number.index('.')+1:]) > 0 and len(number[:number.index('.')])==0:\n",
    "                if int(number[number.index('.')+1:]) > 1:\n",
    "                    words = num2words(number[number.index('.')+1:]) + ' ' + currency + ' cents'\n",
    "                elif int(number[number.index('.')+1:]) == 1:\n",
    "                    words = num2words(number[number.index('.')+1:]) + ' ' + currency + ' cent'\n",
    "            else:\n",
    "                words = num2words(number) + ' ' + currency   \n",
    "        else:\n",
    "            number = re.sub(\"[^.0-9]\", \"\", x[begin_digit_index:])\n",
    "            currency = str.lower(numeric2word.abbreviated_currency_symbols_to_currency_name_dict[re.sub(\"[.]\", \"\", x[:begin_digit_index])])\n",
    "            words = num2words(number) + ' ' + currency\n",
    "    elif back_checker in currency_symbols: # 300$\n",
    "        number = re.sub(\"[^.0-9]\", \"\", x[:end_digit_index])\n",
    "        currency = str.lower(numeric2word.symbol_to_currency_name_dict[x[end_digit_index:]])\n",
    "        if number.find('.') > -1 and len(number[number.index('.')+1:]) > 0 and len(number[:number.index('.')])==0:\n",
    "            if int(number[number.index('.')+1:]) > 1:\n",
    "                words = num2words(number[number.index('.')+1:]) + ' ' + currency + ' cents'\n",
    "            elif int(number[number.index('.')+1:]) == 1:\n",
    "                words = num2words(number[number.index('.')+1:]) + ' ' + currency + ' cent'\n",
    "        else:\n",
    "            words = num2words(number) + ' ' + currency\n",
    "    elif back_checker in currency_abbreviations: # 300USD\n",
    "        number = re.sub(\"[^.0-9]\", \"\", x[:end_digit_index])     \n",
    "        currency = str.lower(numeric2word.abbreviated_currency_symbols_to_currency_name_dict[x[end_digit_index:]])\n",
    "        if number.find('.') > -1 and len(number[number.index('.')+1:]) > 0 and len(number[:number.index('.')])==0:\n",
    "            if int(number[number.index('.')+1:]) > 1:\n",
    "                words = num2words(number[number.index('.')+1:]) + ' ' + currency + ' cents'\n",
    "            elif int(number[number.index('.')+1:]) == 1:\n",
    "                words = num2words(number[number.index('.')+1:]) + ' ' + currency + ' cent'\n",
    "        else:\n",
    "            words = num2words(number) + ' ' + currency\n",
    "    return words"
   ]
  },
  {
   "cell_type": "code",
   "execution_count": 145,
   "metadata": {},
   "outputs": [],
   "source": []
  }
 ],
 "metadata": {
  "kernelspec": {
   "display_name": "Python 3",
   "language": "python",
   "name": "python3"
  },
  "language_info": {
   "codemirror_mode": {
    "name": "ipython",
    "version": 3
   },
   "file_extension": ".py",
   "mimetype": "text/x-python",
   "name": "python",
   "nbconvert_exporter": "python",
   "pygments_lexer": "ipython3",
   "version": "3.8.5"
  }
 },
 "nbformat": 4,
 "nbformat_minor": 4
}
