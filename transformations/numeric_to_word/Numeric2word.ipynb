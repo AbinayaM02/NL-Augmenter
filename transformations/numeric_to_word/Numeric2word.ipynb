{
 "cells": [
  {
   "cell_type": "markdown",
   "metadata": {},
   "source": [
    "# Numeric to word\n",
    "\n",
    "Converts:\n",
    "- General number and decimals (Distance, weight, etc)\n",
    "- Time\n",
    "    - Hour (enhanced from https://sukhbinder.wordpress.com/2013/12/29/time-in-words-with-python/)\n",
    "    - Date\n",
    "    - Year\n",
    "- Phone number (https://stackabuse.com/validating-and-formatting-phone-numbers-in-python)\n",
    "- Money (the currency symbols)\n",
    "    - Find the currency symbols in text:\n",
    "        - https://www.geeksforgeeks.org/how-to-find-index-of-any-currency-symbols-in-a-given-string/\n",
    "    - The symbols:\n",
    "        - https://thefactfile.org/countries-currencies-symbols/ (taken)\n",
    "        - https://wise.com/gb/blog/world-currency-symbols\n",
    "\n",
    "Steps:\n",
    "- Recognizing the number's meaning (2/6 done)\n",
    "- The calculation itself (5/6 done)\n",
    "- Corner cases\n",
    "- Implementation to NL-augmenter\n",
    "\n",
    "Further improvements:\n",
    "- Word to numeric\n",
    "    - https://pypi.org/project/word2number-i18n/\n",
    "    - https://pypi.org/project/word2number/\n",
    "- All lang numeric\n",
    "    - https://pypi.org/project/fastlangid/"
   ]
  },
  {
   "cell_type": "code",
   "execution_count": 1,
   "metadata": {},
   "outputs": [],
   "source": [
    "import re\n",
    "import datetime\n",
    "import phonenumbers\n",
    "from num2words import num2words\n",
    "from phonenumbers import carrier, timezone, geocoder\n",
    "\n",
    "from supplements import symbol_to_currency_name_dict, TimeInWords2"
   ]
  },
  {
   "cell_type": "markdown",
   "metadata": {},
   "source": [
    "#### Recognizers"
   ]
  },
  {
   "cell_type": "code",
   "execution_count": null,
   "metadata": {},
   "outputs": [],
   "source": [
    "def recognized_as_datestring(x):\n",
    "    # TO DO\n",
    "    return False\n",
    "\n",
    "def recognized_as_year(x):\n",
    "    # TO DO\n",
    "    return False\n",
    "\n",
    "def recognized_as_time(x):\n",
    "    # TO DO\n",
    "    return False\n",
    "\n",
    "def recognized_as_phone_number(x):\n",
    "    \"\"\"\n",
    "    Accepting phone number format with stripes\n",
    "    This function also do a check on the number whether it's a valid phone number or not\n",
    "    (can't accept a random phone number here)\n",
    "    phone_number = \"+62-87986-123456\"\n",
    "    \"\"\"\n",
    "    my_number = phonenumbers.parse(x, \"ID\")\n",
    "    return phonenumbers.is_valid_number(my_number)\n",
    "\n",
    "def recognized_as_currency_symbols(x):\n",
    "    return x in list(symbol_to_currency_name_dict.keys())\n",
    "\n",
    "def recognized_as_general_numbers(x):\n",
    "    # TO DO\n",
    "    return False"
   ]
  },
  {
   "cell_type": "markdown",
   "metadata": {},
   "source": [
    "#### Transformers"
   ]
  },
  {
   "cell_type": "code",
   "execution_count": 17,
   "metadata": {},
   "outputs": [],
   "source": [
    "def datestring_to_words(x):\n",
    "    # TO DO\n",
    "    return False\n",
    "\n",
    "def time_to_words(x):\n",
    "    \"\"\"\n",
    "    Currently accepted time formats are:\n",
    "    - x = \"10x30\" with x being any non integer hour-minute separator\n",
    "    - 12h formats (e.g. 24:00 = twelve o'clock, 30:00 = eighteen o'clock)\n",
    "    \n",
    "    Possible but not yet catered time formats:\n",
    "    - Timestamps\n",
    "    \"\"\"\n",
    "    t = TimeInWords2()\n",
    "    words = t.caltime(x)\n",
    "    return words\n",
    "\n",
    "def year_to_words(x):\n",
    "    words = ''.join(num2words(x, to='year').split(\",\"))\n",
    "    return words\n",
    "\n",
    "def phonenum_to_words(x):\n",
    "    numbers = [\"zero\", \"one\", \"two\", \"three\", \"four\", \"five\", \"six\", \"seven\", \"eight\", \"nine\"]\n",
    "    \n",
    "    x = re.sub(\"[^0-9]\", \"\", x)\n",
    "    \n",
    "    words = ''\n",
    "    for number in x:\n",
    "        words = words + numbers[int(number)] + ' '\n",
    "    return words\n",
    "\n",
    "def general_numbers_to_words(x):\n",
    "    \"\"\"\n",
    "    General number and decimals (Distance, weight, etc)\n",
    "    \"\"\"\n",
    "    words = ''.join(num2words(x).split(\",\"))\n",
    "    return words"
   ]
  },
  {
   "cell_type": "markdown",
   "metadata": {},
   "source": [
    "#### Implementation"
   ]
  },
  {
   "cell_type": "code",
   "execution_count": null,
   "metadata": {},
   "outputs": [],
   "source": [
    "# TO DO: Check whether all the desired capabilities are met\n",
    "\n",
    "x = # YOUR TEST NUMBER STRINGS HERE #\n",
    "\n",
    "if recognized_as_datestring(x):\n",
    "    words = datestring_to_words()\n",
    "elif recognized_as_time(x):\n",
    "    words = time_to_words(x)\n",
    "elif recognized_as_year(x):\n",
    "    words = year_to_words(x)\n",
    "elif recognized_as_phone_number(x): \n",
    "    words = phonenum_to_words(x)\n",
    "elif recognized_as_currency_symbols(x):\n",
    "    words = symbol_to_currency_name_dict[x]\n",
    "elif recognized_as_general_numbers(x):\n",
    "    words = general_numbers_to_words(x)\n",
    "    \n",
    "# ELSE: Numbers that not in the above stated formats, strings"
   ]
  }
 ],
 "metadata": {
  "kernelspec": {
   "display_name": "Python 3",
   "language": "python",
   "name": "python3"
  },
  "language_info": {
   "codemirror_mode": {
    "name": "ipython",
    "version": 3
   },
   "file_extension": ".py",
   "mimetype": "text/x-python",
   "name": "python",
   "nbconvert_exporter": "python",
   "pygments_lexer": "ipython3",
   "version": "3.8.5"
  }
 },
 "nbformat": 4,
 "nbformat_minor": 4
}
