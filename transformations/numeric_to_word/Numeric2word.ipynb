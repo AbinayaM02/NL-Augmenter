{
 "cells": [
  {
   "cell_type": "markdown",
   "metadata": {},
   "source": [
    "token[end_digit_index:]# Numeric to word\n",
    "\n",
    "Converts:\n",
    "- General number and decimals (Distance, weight, etc)\n",
    "- Time\n",
    "    - Hour (enhanced from https://sukhbinder.wordpress.com/2013/12/29/time-in-words-with-python/)\n",
    "    - Date (format is following from https://en.wikipedia.org/wiki/Date_format_by_country)\n",
    "    - Year\n",
    "- Phone number (https://stackabuse.com/validating-and-formatting-phone-numbers-in-python)\n",
    "- Money (the currency symbols)\n",
    "    - Find the currency symbols in text:\n",
    "        - https://www.geeksforgeeks.org/how-to-find-index-of-any-currency-symbols-in-a-given-string/\n",
    "    - The symbols:\n",
    "        - https://thefactfile.org/countries-currencies-symbols/ (taken)\n",
    "        - https://wise.com/gb/blog/world-currency-symbols\n",
    "\n",
    "TO DO:\n",
    "- Corner cases check (please write your test cases in this notebook)\n",
    "- Implementation to NL-augmenter\n",
    "\n",
    "Further improvements:\n",
    "- Word to numeric\n",
    "    - https://pypi.org/project/word2number-i18n/\n",
    "    - https://pypi.org/project/word2number/\n",
    "- All lang numeric\n",
    "    - https://pypi.org/project/fastlangid/"
   ]
  },
  {
   "cell_type": "code",
   "execution_count": 1,
   "metadata": {},
   "outputs": [],
   "source": [
    "import numeric2word"
   ]
  },
  {
   "cell_type": "markdown",
   "metadata": {},
   "source": [
    "#### Implementation"
   ]
  },
  {
   "cell_type": "code",
   "execution_count": 2,
   "metadata": {},
   "outputs": [
    {
     "data": {
      "text/plain": [
       "[{'Please buy me 20 apples': 'Please buy me twenty apples'},\n",
       " {'The accuracy is 99.22': 'The accuracy is 99.22'},\n",
       " {'The deadline is in 2020/01/02': 'The deadline is in the second of january twenty twenty'},\n",
       " {'The deadline is in 2020/01': 'The deadline is in 2020/01'},\n",
       " {'The deadline is in Jan 2020': 'The deadline is in Jan twenty twenty'},\n",
       " {\"Slow down, it's still 5:00\": \"Slow down, it's still five o'clock am\"},\n",
       " {\"Quick!, it's already 23:00\": \"Quick!, it's already eleven o'clock pm\"},\n",
       " {'This is 2020!': 'This is twenty twenty!'},\n",
       " {'My phone number is +1371893178': 'My phone number is plus one three seven one eight nine three one seven eight '},\n",
       " {'My phone number is +6287822216501': 'My phone number is plus six two eight seven eight two two two one six five zero one '},\n",
       " {'My phone number is 6287822': 'My phone number is six two eight seven eight two two '},\n",
       " {'My phone number is 628782': 'My phone number is six hundred and twenty-eight thousand seven hundred and eighty-two'},\n",
       " {'The price is $.2': 'The price is $.2'},\n",
       " {'The price is 300.2$': 'The price is three hundred point two dollar'},\n",
       " {'The price is USD300.2': 'The price is three hundred point two united states dollar'},\n",
       " {'The price is 300.2USD': 'The price is three hundred point two united states dollar'},\n",
       " {'The price is USD300!@#!': 'The price is USD300!@#!'}]"
      ]
     },
     "execution_count": 2,
     "metadata": {},
     "output_type": "execute_result"
    }
   ],
   "source": [
    "# TO DO: Check whether all the desired capabilities are met\n",
    "\n",
    "transformed_sentences = []\n",
    "for sentence in [\"Please buy me 20 apples\",\n",
    "                 \"The accuracy is 99.22\",\n",
    "                 \"The deadline is in 2020/01/02\",\n",
    "                 \"The deadline is in 2020/01\",\n",
    "                 \"The deadline is in Jan 2020\",\n",
    "                 \"Slow down, it\\'s still 5:00\",\n",
    "                 \"Quick!, it\\'s already 23:00\",\n",
    "                 \"This is 2020!\",\n",
    "                 \"My phone number is +1371893178\",\n",
    "                 \"My phone number is +6287822216501\",\n",
    "                 \"My phone number is 6287822\",\n",
    "                 \"My phone number is 628782\",\n",
    "                 \"The price is $.2\",\n",
    "                 \"The price is 300.2$\",\n",
    "                 \"The price is USD300.2\",\n",
    "                 \"The price is 300.2USD\",\n",
    "                 \"The price is USD300!@#!\"]:\n",
    "    transformed_words = []\n",
    "    for word in sentence.split():\n",
    "        transformed_word = numeric2word.recognize_transform(word)\n",
    "        transformed_words.append(transformed_word)\n",
    "    transformed_sentence = ' '.join(transformed_words)\n",
    "    transformed_sentences.append({sentence:transformed_sentence})\n",
    "transformed_sentences"
   ]
  },
  {
   "cell_type": "code",
   "execution_count": null,
   "metadata": {},
   "outputs": [],
   "source": []
  }
 ],
 "metadata": {
  "kernelspec": {
   "display_name": "Python 3",
   "language": "python",
   "name": "python3"
  },
  "language_info": {
   "codemirror_mode": {
    "name": "ipython",
    "version": 3
   },
   "file_extension": ".py",
   "mimetype": "text/x-python",
   "name": "python",
   "nbconvert_exporter": "python",
   "pygments_lexer": "ipython3",
   "version": "3.8.5"
  }
 },
 "nbformat": 4,
 "nbformat_minor": 4
}
